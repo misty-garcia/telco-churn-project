{
 "cells": [
  {
   "cell_type": "markdown",
   "metadata": {},
   "source": [
    "### Planning"
   ]
  },
  {
   "cell_type": "markdown",
   "metadata": {},
   "source": [
    "Goal: Why are our customers churning?"
   ]
  },
  {
   "cell_type": "markdown",
   "metadata": {},
   "source": [
    "*Specific questions to address*\n",
    "- Does the month they signed up influence churn? \n",
    "    - plot the rate of churn on a line chart, where x is tenure and y is the customers churned/total customers\n",
    "- Which, if any, features indicate a higher liklihood of churn?\n",
    "- Is there a price threshold for likelihood of churn, specific to services? What is that point?\n",
    "- What is the churn rate in the 13th month for one-year customers compared to month-to-month customers?"
   ]
  },
  {
   "cell_type": "markdown",
   "metadata": {},
   "source": [
    "data_dictionary - variables included and why or not why? (doesn't have to be an actual python dictionary)"
   ]
  },
  {
   "cell_type": "markdown",
   "metadata": {},
   "source": [
    "Starting hypothesis: Contract type, monthly charges, and internet type will be most effective in predicting a model"
   ]
  },
  {
   "cell_type": "markdown",
   "metadata": {},
   "source": [
    "## Acquire"
   ]
  },
  {
   "cell_type": "code",
   "execution_count": 290,
   "metadata": {},
   "outputs": [],
   "source": [
    "import pandas as pd\n",
    "import numpy as np\n",
    "import matplotlib.pyplot as plt \n",
    "import seaborn as sns\n",
    "from scipy import stats\n",
    "\n",
    "from sklearn.preprocessing import LabelEncoder\n",
    "from sklearn.tree import DecisionTreeClassifier, export_graphviz\n",
    "from sklearn.ensemble import RandomForestClassifier\n",
    "from sklearn.neighbors import KNeighborsClassifier\n",
    "from sklearn.metrics import confusion_matrix, classification_report\n",
    "\n",
    "from graphviz import Source\n",
    "\n",
    "import acquire\n",
    "import prep\n",
    "import split_scale\n",
    "\n",
    "import warnings \n",
    "warnings.filterwarnings(\"ignore\")"
   ]
  },
  {
   "cell_type": "code",
   "execution_count": 2,
   "metadata": {},
   "outputs": [],
   "source": [
    "# get telco data from mysql with all tables joined\n",
    "df = acquire.get_telco_data()"
   ]
  },
  {
   "cell_type": "code",
   "execution_count": 3,
   "metadata": {},
   "outputs": [
    {
     "name": "stdout",
     "output_type": "stream",
     "text": [
      "<class 'pandas.core.frame.DataFrame'>\n",
      "RangeIndex: 7043 entries, 0 to 7042\n",
      "Data columns (total 24 columns):\n",
      "payment_type_id             7043 non-null int64\n",
      "contract_type_id            7043 non-null int64\n",
      "internet_service_type_id    7043 non-null int64\n",
      "customer_id                 7043 non-null object\n",
      "gender                      7043 non-null object\n",
      "senior_citizen              7043 non-null int64\n",
      "partner                     7043 non-null object\n",
      "dependents                  7043 non-null object\n",
      "tenure                      7043 non-null int64\n",
      "phone_service               7043 non-null object\n",
      "multiple_lines              7043 non-null object\n",
      "online_security             7043 non-null object\n",
      "online_backup               7043 non-null object\n",
      "device_protection           7043 non-null object\n",
      "tech_support                7043 non-null object\n",
      "streaming_tv                7043 non-null object\n",
      "streaming_movies            7043 non-null object\n",
      "paperless_billing           7043 non-null object\n",
      "monthly_charges             7043 non-null float64\n",
      "total_charges               7043 non-null object\n",
      "churn                       7043 non-null object\n",
      "internet_service_type       7043 non-null object\n",
      "contract_type               7043 non-null object\n",
      "payment_type                7043 non-null object\n",
      "dtypes: float64(1), int64(5), object(18)\n",
      "memory usage: 1.3+ MB\n"
     ]
    }
   ],
   "source": [
    "df.info()"
   ]
  },
  {
   "cell_type": "code",
   "execution_count": 4,
   "metadata": {},
   "outputs": [
    {
     "data": {
      "text/html": [
       "<div>\n",
       "<style scoped>\n",
       "    .dataframe tbody tr th:only-of-type {\n",
       "        vertical-align: middle;\n",
       "    }\n",
       "\n",
       "    .dataframe tbody tr th {\n",
       "        vertical-align: top;\n",
       "    }\n",
       "\n",
       "    .dataframe thead th {\n",
       "        text-align: right;\n",
       "    }\n",
       "</style>\n",
       "<table border=\"1\" class=\"dataframe\">\n",
       "  <thead>\n",
       "    <tr style=\"text-align: right;\">\n",
       "      <th></th>\n",
       "      <th>payment_type_id</th>\n",
       "      <th>contract_type_id</th>\n",
       "      <th>internet_service_type_id</th>\n",
       "      <th>senior_citizen</th>\n",
       "      <th>tenure</th>\n",
       "      <th>monthly_charges</th>\n",
       "    </tr>\n",
       "  </thead>\n",
       "  <tbody>\n",
       "    <tr>\n",
       "      <th>count</th>\n",
       "      <td>7043.000000</td>\n",
       "      <td>7043.000000</td>\n",
       "      <td>7043.000000</td>\n",
       "      <td>7043.000000</td>\n",
       "      <td>7043.000000</td>\n",
       "      <td>7043.000000</td>\n",
       "    </tr>\n",
       "    <tr>\n",
       "      <th>mean</th>\n",
       "      <td>2.315633</td>\n",
       "      <td>1.690473</td>\n",
       "      <td>1.872923</td>\n",
       "      <td>0.162147</td>\n",
       "      <td>32.371149</td>\n",
       "      <td>64.761692</td>\n",
       "    </tr>\n",
       "    <tr>\n",
       "      <th>std</th>\n",
       "      <td>1.148907</td>\n",
       "      <td>0.833755</td>\n",
       "      <td>0.737796</td>\n",
       "      <td>0.368612</td>\n",
       "      <td>24.559481</td>\n",
       "      <td>30.090047</td>\n",
       "    </tr>\n",
       "    <tr>\n",
       "      <th>min</th>\n",
       "      <td>1.000000</td>\n",
       "      <td>1.000000</td>\n",
       "      <td>1.000000</td>\n",
       "      <td>0.000000</td>\n",
       "      <td>0.000000</td>\n",
       "      <td>18.250000</td>\n",
       "    </tr>\n",
       "    <tr>\n",
       "      <th>25%</th>\n",
       "      <td>1.000000</td>\n",
       "      <td>1.000000</td>\n",
       "      <td>1.000000</td>\n",
       "      <td>0.000000</td>\n",
       "      <td>9.000000</td>\n",
       "      <td>35.500000</td>\n",
       "    </tr>\n",
       "    <tr>\n",
       "      <th>50%</th>\n",
       "      <td>2.000000</td>\n",
       "      <td>1.000000</td>\n",
       "      <td>2.000000</td>\n",
       "      <td>0.000000</td>\n",
       "      <td>29.000000</td>\n",
       "      <td>70.350000</td>\n",
       "    </tr>\n",
       "    <tr>\n",
       "      <th>75%</th>\n",
       "      <td>3.000000</td>\n",
       "      <td>2.000000</td>\n",
       "      <td>2.000000</td>\n",
       "      <td>0.000000</td>\n",
       "      <td>55.000000</td>\n",
       "      <td>89.850000</td>\n",
       "    </tr>\n",
       "    <tr>\n",
       "      <th>max</th>\n",
       "      <td>4.000000</td>\n",
       "      <td>3.000000</td>\n",
       "      <td>3.000000</td>\n",
       "      <td>1.000000</td>\n",
       "      <td>72.000000</td>\n",
       "      <td>118.750000</td>\n",
       "    </tr>\n",
       "  </tbody>\n",
       "</table>\n",
       "</div>"
      ],
      "text/plain": [
       "       payment_type_id  contract_type_id  internet_service_type_id  \\\n",
       "count      7043.000000       7043.000000               7043.000000   \n",
       "mean          2.315633          1.690473                  1.872923   \n",
       "std           1.148907          0.833755                  0.737796   \n",
       "min           1.000000          1.000000                  1.000000   \n",
       "25%           1.000000          1.000000                  1.000000   \n",
       "50%           2.000000          1.000000                  2.000000   \n",
       "75%           3.000000          2.000000                  2.000000   \n",
       "max           4.000000          3.000000                  3.000000   \n",
       "\n",
       "       senior_citizen       tenure  monthly_charges  \n",
       "count     7043.000000  7043.000000      7043.000000  \n",
       "mean         0.162147    32.371149        64.761692  \n",
       "std          0.368612    24.559481        30.090047  \n",
       "min          0.000000     0.000000        18.250000  \n",
       "25%          0.000000     9.000000        35.500000  \n",
       "50%          0.000000    29.000000        70.350000  \n",
       "75%          0.000000    55.000000        89.850000  \n",
       "max          1.000000    72.000000       118.750000  "
      ]
     },
     "execution_count": 4,
     "metadata": {},
     "output_type": "execute_result"
    }
   ],
   "source": [
    "df.describe()"
   ]
  },
  {
   "cell_type": "code",
   "execution_count": 5,
   "metadata": {},
   "outputs": [
    {
     "data": {
      "text/plain": [
       "payment_type_id             0\n",
       "contract_type_id            0\n",
       "internet_service_type_id    0\n",
       "customer_id                 0\n",
       "gender                      0\n",
       "senior_citizen              0\n",
       "partner                     0\n",
       "dependents                  0\n",
       "tenure                      0\n",
       "phone_service               0\n",
       "multiple_lines              0\n",
       "online_security             0\n",
       "online_backup               0\n",
       "device_protection           0\n",
       "tech_support                0\n",
       "streaming_tv                0\n",
       "streaming_movies            0\n",
       "paperless_billing           0\n",
       "monthly_charges             0\n",
       "total_charges               0\n",
       "churn                       0\n",
       "internet_service_type       0\n",
       "contract_type               0\n",
       "payment_type                0\n",
       "dtype: int64"
      ]
     },
     "execution_count": 5,
     "metadata": {},
     "output_type": "execute_result"
    }
   ],
   "source": [
    "# no nulls were found!\n",
    "df.isnull().sum()"
   ]
  },
  {
   "cell_type": "code",
   "execution_count": 6,
   "metadata": {},
   "outputs": [
    {
     "data": {
      "text/html": [
       "<div>\n",
       "<style scoped>\n",
       "    .dataframe tbody tr th:only-of-type {\n",
       "        vertical-align: middle;\n",
       "    }\n",
       "\n",
       "    .dataframe tbody tr th {\n",
       "        vertical-align: top;\n",
       "    }\n",
       "\n",
       "    .dataframe thead th {\n",
       "        text-align: right;\n",
       "    }\n",
       "</style>\n",
       "<table border=\"1\" class=\"dataframe\">\n",
       "  <thead>\n",
       "    <tr style=\"text-align: right;\">\n",
       "      <th></th>\n",
       "      <th>payment_type_id</th>\n",
       "      <th>contract_type_id</th>\n",
       "      <th>internet_service_type_id</th>\n",
       "      <th>customer_id</th>\n",
       "      <th>gender</th>\n",
       "      <th>senior_citizen</th>\n",
       "      <th>partner</th>\n",
       "      <th>dependents</th>\n",
       "      <th>tenure</th>\n",
       "      <th>phone_service</th>\n",
       "      <th>...</th>\n",
       "      <th>tech_support</th>\n",
       "      <th>streaming_tv</th>\n",
       "      <th>streaming_movies</th>\n",
       "      <th>paperless_billing</th>\n",
       "      <th>monthly_charges</th>\n",
       "      <th>total_charges</th>\n",
       "      <th>churn</th>\n",
       "      <th>internet_service_type</th>\n",
       "      <th>contract_type</th>\n",
       "      <th>payment_type</th>\n",
       "    </tr>\n",
       "  </thead>\n",
       "  <tbody>\n",
       "    <tr>\n",
       "      <th>0</th>\n",
       "      <td>2</td>\n",
       "      <td>1</td>\n",
       "      <td>1</td>\n",
       "      <td>0003-MKNFE</td>\n",
       "      <td>Male</td>\n",
       "      <td>0</td>\n",
       "      <td>No</td>\n",
       "      <td>No</td>\n",
       "      <td>9</td>\n",
       "      <td>Yes</td>\n",
       "      <td>...</td>\n",
       "      <td>No</td>\n",
       "      <td>No</td>\n",
       "      <td>Yes</td>\n",
       "      <td>No</td>\n",
       "      <td>59.9</td>\n",
       "      <td>542.4</td>\n",
       "      <td>No</td>\n",
       "      <td>DSL</td>\n",
       "      <td>Month-to-month</td>\n",
       "      <td>Mailed check</td>\n",
       "    </tr>\n",
       "    <tr>\n",
       "      <th>1</th>\n",
       "      <td>4</td>\n",
       "      <td>1</td>\n",
       "      <td>1</td>\n",
       "      <td>0013-MHZWF</td>\n",
       "      <td>Female</td>\n",
       "      <td>0</td>\n",
       "      <td>No</td>\n",
       "      <td>Yes</td>\n",
       "      <td>9</td>\n",
       "      <td>Yes</td>\n",
       "      <td>...</td>\n",
       "      <td>Yes</td>\n",
       "      <td>Yes</td>\n",
       "      <td>Yes</td>\n",
       "      <td>Yes</td>\n",
       "      <td>69.4</td>\n",
       "      <td>571.45</td>\n",
       "      <td>No</td>\n",
       "      <td>DSL</td>\n",
       "      <td>Month-to-month</td>\n",
       "      <td>Credit card (automatic)</td>\n",
       "    </tr>\n",
       "    <tr>\n",
       "      <th>2</th>\n",
       "      <td>1</td>\n",
       "      <td>1</td>\n",
       "      <td>1</td>\n",
       "      <td>0015-UOCOJ</td>\n",
       "      <td>Female</td>\n",
       "      <td>1</td>\n",
       "      <td>No</td>\n",
       "      <td>No</td>\n",
       "      <td>7</td>\n",
       "      <td>Yes</td>\n",
       "      <td>...</td>\n",
       "      <td>No</td>\n",
       "      <td>No</td>\n",
       "      <td>No</td>\n",
       "      <td>Yes</td>\n",
       "      <td>48.2</td>\n",
       "      <td>340.35</td>\n",
       "      <td>No</td>\n",
       "      <td>DSL</td>\n",
       "      <td>Month-to-month</td>\n",
       "      <td>Electronic check</td>\n",
       "    </tr>\n",
       "    <tr>\n",
       "      <th>3</th>\n",
       "      <td>1</td>\n",
       "      <td>1</td>\n",
       "      <td>1</td>\n",
       "      <td>0023-HGHWL</td>\n",
       "      <td>Male</td>\n",
       "      <td>1</td>\n",
       "      <td>No</td>\n",
       "      <td>No</td>\n",
       "      <td>1</td>\n",
       "      <td>No</td>\n",
       "      <td>...</td>\n",
       "      <td>No</td>\n",
       "      <td>No</td>\n",
       "      <td>No</td>\n",
       "      <td>Yes</td>\n",
       "      <td>25.1</td>\n",
       "      <td>25.1</td>\n",
       "      <td>Yes</td>\n",
       "      <td>DSL</td>\n",
       "      <td>Month-to-month</td>\n",
       "      <td>Electronic check</td>\n",
       "    </tr>\n",
       "    <tr>\n",
       "      <th>4</th>\n",
       "      <td>3</td>\n",
       "      <td>1</td>\n",
       "      <td>1</td>\n",
       "      <td>0032-PGELS</td>\n",
       "      <td>Female</td>\n",
       "      <td>0</td>\n",
       "      <td>Yes</td>\n",
       "      <td>Yes</td>\n",
       "      <td>1</td>\n",
       "      <td>No</td>\n",
       "      <td>...</td>\n",
       "      <td>No</td>\n",
       "      <td>No</td>\n",
       "      <td>No</td>\n",
       "      <td>No</td>\n",
       "      <td>30.5</td>\n",
       "      <td>30.5</td>\n",
       "      <td>Yes</td>\n",
       "      <td>DSL</td>\n",
       "      <td>Month-to-month</td>\n",
       "      <td>Bank transfer (automatic)</td>\n",
       "    </tr>\n",
       "  </tbody>\n",
       "</table>\n",
       "<p>5 rows × 24 columns</p>\n",
       "</div>"
      ],
      "text/plain": [
       "   payment_type_id  contract_type_id  internet_service_type_id customer_id  \\\n",
       "0                2                 1                         1  0003-MKNFE   \n",
       "1                4                 1                         1  0013-MHZWF   \n",
       "2                1                 1                         1  0015-UOCOJ   \n",
       "3                1                 1                         1  0023-HGHWL   \n",
       "4                3                 1                         1  0032-PGELS   \n",
       "\n",
       "   gender  senior_citizen partner dependents  tenure phone_service  ...  \\\n",
       "0    Male               0      No         No       9           Yes  ...   \n",
       "1  Female               0      No        Yes       9           Yes  ...   \n",
       "2  Female               1      No         No       7           Yes  ...   \n",
       "3    Male               1      No         No       1            No  ...   \n",
       "4  Female               0     Yes        Yes       1            No  ...   \n",
       "\n",
       "  tech_support streaming_tv streaming_movies paperless_billing  \\\n",
       "0           No           No              Yes                No   \n",
       "1          Yes          Yes              Yes               Yes   \n",
       "2           No           No               No               Yes   \n",
       "3           No           No               No               Yes   \n",
       "4           No           No               No                No   \n",
       "\n",
       "  monthly_charges total_charges churn internet_service_type   contract_type  \\\n",
       "0            59.9         542.4    No                   DSL  Month-to-month   \n",
       "1            69.4        571.45    No                   DSL  Month-to-month   \n",
       "2            48.2        340.35    No                   DSL  Month-to-month   \n",
       "3            25.1          25.1   Yes                   DSL  Month-to-month   \n",
       "4            30.5          30.5   Yes                   DSL  Month-to-month   \n",
       "\n",
       "                payment_type  \n",
       "0               Mailed check  \n",
       "1    Credit card (automatic)  \n",
       "2           Electronic check  \n",
       "3           Electronic check  \n",
       "4  Bank transfer (automatic)  \n",
       "\n",
       "[5 rows x 24 columns]"
      ]
     },
     "execution_count": 6,
     "metadata": {},
     "output_type": "execute_result"
    }
   ],
   "source": [
    "df.head()"
   ]
  },
  {
   "cell_type": "code",
   "execution_count": 7,
   "metadata": {},
   "outputs": [
    {
     "data": {
      "image/png": "[encoded data removed]",
      "text/plain": [
       "<Figure size 432x288 with 1 Axes>"
      ]
     },
     "metadata": {
      "needs_background": "light"
     },
     "output_type": "display_data"
    },
    {
     "data": {
      "image/png": "[encoded data removed]",
      "text/plain": [
       "<Figure size 432x288 with 1 Axes>"
      ]
     },
     "metadata": {
      "needs_background": "light"
     },
     "output_type": "display_data"
    }
   ],
   "source": [
    "# check out the distribution of tenure and monthly charges\n",
    "sns.distplot(df.tenure)\n",
    "plt.show()\n",
    "sns.distplot(df.monthly_charges)\n",
    "plt.show()"
   ]
  },
  {
   "cell_type": "code",
   "execution_count": 8,
   "metadata": {},
   "outputs": [
    {
     "data": {
      "text/plain": [
       "No     5174\n",
       "Yes    1869\n",
       "Name: churn, dtype: int64"
      ]
     },
     "execution_count": 8,
     "metadata": {},
     "output_type": "execute_result"
    }
   ],
   "source": [
    "# how many people have and have not churned\n",
    "df.churn.value_counts()"
   ]
  },
  {
   "cell_type": "code",
   "execution_count": 9,
   "metadata": {},
   "outputs": [
    {
     "name": "stdout",
     "output_type": "stream",
     "text": [
      "The average rate of churn is 0.27\n"
     ]
    }
   ],
   "source": [
    "print(\"The average rate of churn is {:.2f}\".format(1869/(1869+5163)))"
   ]
  },
  {
   "cell_type": "markdown",
   "metadata": {},
   "source": [
    "### Prepare - Baseline"
   ]
  },
  {
   "cell_type": "code",
   "execution_count": 10,
   "metadata": {},
   "outputs": [],
   "source": [
    "# cleaned total_charges & changed to float\n",
    "df = prep.clean_data(df)"
   ]
  },
  {
   "cell_type": "code",
   "execution_count": 11,
   "metadata": {},
   "outputs": [
    {
     "name": "stdout",
     "output_type": "stream",
     "text": [
      "<class 'pandas.core.frame.DataFrame'>\n",
      "Int64Index: 7032 entries, 0 to 7042\n",
      "Data columns (total 24 columns):\n",
      "payment_type_id             7032 non-null int64\n",
      "contract_type_id            7032 non-null int64\n",
      "internet_service_type_id    7032 non-null int64\n",
      "customer_id                 7032 non-null object\n",
      "gender                      7032 non-null object\n",
      "senior_citizen              7032 non-null int64\n",
      "partner                     7032 non-null object\n",
      "dependents                  7032 non-null object\n",
      "tenure                      7032 non-null int64\n",
      "phone_service               7032 non-null object\n",
      "multiple_lines              7032 non-null object\n",
      "online_security             7032 non-null object\n",
      "online_backup               7032 non-null object\n",
      "device_protection           7032 non-null object\n",
      "tech_support                7032 non-null object\n",
      "streaming_tv                7032 non-null object\n",
      "streaming_movies            7032 non-null object\n",
      "paperless_billing           7032 non-null object\n",
      "monthly_charges             7032 non-null float64\n",
      "total_charges               7032 non-null float64\n",
      "churn                       7032 non-null object\n",
      "internet_service_type       7032 non-null object\n",
      "contract_type               7032 non-null object\n",
      "payment_type                7032 non-null object\n",
      "dtypes: float64(2), int64(5), object(17)\n",
      "memory usage: 1.3+ MB\n"
     ]
    }
   ],
   "source": [
    "df.info()"
   ]
  },
  {
   "cell_type": "code",
   "execution_count": 26,
   "metadata": {},
   "outputs": [],
   "source": [
    "# split data using a train of 80% and a default random state of 123\n",
    "train, test = split_scale.split_my_data(df, .80)"
   ]
  },
  {
   "cell_type": "code",
   "execution_count": 27,
   "metadata": {},
   "outputs": [],
   "source": [
    "# split features and target\n",
    "X_train = train.drop(columns=\"churn\")\n",
    "X_test = train.drop(columns=\"churn\")\n",
    "y_train = train[[\"churn\"]]\n",
    "y_test = test[[\"churn\"]]"
   ]
  },
  {
   "cell_type": "code",
   "execution_count": 28,
   "metadata": {},
   "outputs": [
    {
     "name": "stdout",
     "output_type": "stream",
     "text": [
      "<class 'pandas.core.frame.DataFrame'>\n",
      "Int64Index: 5625 entries, 5474 to 3582\n",
      "Data columns (total 1 columns):\n",
      "churn    5625 non-null int64\n",
      "dtypes: int64(1)\n",
      "memory usage: 87.9 KB\n"
     ]
    },
    {
     "data": {
      "text/html": [
       "<div>\n",
       "<style scoped>\n",
       "    .dataframe tbody tr th:only-of-type {\n",
       "        vertical-align: middle;\n",
       "    }\n",
       "\n",
       "    .dataframe tbody tr th {\n",
       "        vertical-align: top;\n",
       "    }\n",
       "\n",
       "    .dataframe thead th {\n",
       "        text-align: right;\n",
       "    }\n",
       "</style>\n",
       "<table border=\"1\" class=\"dataframe\">\n",
       "  <thead>\n",
       "    <tr style=\"text-align: right;\">\n",
       "      <th></th>\n",
       "      <th>churn</th>\n",
       "    </tr>\n",
       "  </thead>\n",
       "  <tbody>\n",
       "    <tr>\n",
       "      <th>5474</th>\n",
       "      <td>0</td>\n",
       "    </tr>\n",
       "    <tr>\n",
       "      <th>5426</th>\n",
       "      <td>0</td>\n",
       "    </tr>\n",
       "    <tr>\n",
       "      <th>3563</th>\n",
       "      <td>0</td>\n",
       "    </tr>\n",
       "    <tr>\n",
       "      <th>2096</th>\n",
       "      <td>0</td>\n",
       "    </tr>\n",
       "    <tr>\n",
       "      <th>7019</th>\n",
       "      <td>0</td>\n",
       "    </tr>\n",
       "  </tbody>\n",
       "</table>\n",
       "</div>"
      ],
      "text/plain": [
       "      churn\n",
       "5474      0\n",
       "5426      0\n",
       "3563      0\n",
       "2096      0\n",
       "7019      0"
      ]
     },
     "execution_count": 28,
     "metadata": {},
     "output_type": "execute_result"
    }
   ],
   "source": [
    "# encode churn values from no/yes to 0/1\n",
    "y_train, y_test = prep.encode(y_train, y_test, \"churn\")\n",
    "y_train.info()\n",
    "y_train.head()"
   ]
  },
  {
   "cell_type": "code",
   "execution_count": 29,
   "metadata": {},
   "outputs": [],
   "source": [
    "# remove all the non-numeric columns, so a baseline model can be created\n",
    "X_train = X_train.select_dtypes(include = [int, float])\n",
    "X_test = X_train.select_dtypes(include = [int, float])"
   ]
  },
  {
   "cell_type": "code",
   "execution_count": 30,
   "metadata": {
    "scrolled": true
   },
   "outputs": [
    {
     "name": "stdout",
     "output_type": "stream",
     "text": [
      "<class 'pandas.core.frame.DataFrame'>\n",
      "Int64Index: 5625 entries, 5474 to 3582\n",
      "Data columns (total 7 columns):\n",
      "payment_type_id             5625 non-null int64\n",
      "contract_type_id            5625 non-null int64\n",
      "internet_service_type_id    5625 non-null int64\n",
      "senior_citizen              5625 non-null int64\n",
      "tenure                      5625 non-null int64\n",
      "monthly_charges             5625 non-null float64\n",
      "total_charges               5625 non-null float64\n",
      "dtypes: float64(2), int64(5)\n",
      "memory usage: 351.6 KB\n"
     ]
    },
    {
     "data": {
      "text/html": [
       "<div>\n",
       "<style scoped>\n",
       "    .dataframe tbody tr th:only-of-type {\n",
       "        vertical-align: middle;\n",
       "    }\n",
       "\n",
       "    .dataframe tbody tr th {\n",
       "        vertical-align: top;\n",
       "    }\n",
       "\n",
       "    .dataframe thead th {\n",
       "        text-align: right;\n",
       "    }\n",
       "</style>\n",
       "<table border=\"1\" class=\"dataframe\">\n",
       "  <thead>\n",
       "    <tr style=\"text-align: right;\">\n",
       "      <th></th>\n",
       "      <th>payment_type_id</th>\n",
       "      <th>contract_type_id</th>\n",
       "      <th>internet_service_type_id</th>\n",
       "      <th>senior_citizen</th>\n",
       "      <th>tenure</th>\n",
       "      <th>monthly_charges</th>\n",
       "      <th>total_charges</th>\n",
       "    </tr>\n",
       "  </thead>\n",
       "  <tbody>\n",
       "    <tr>\n",
       "      <th>5474</th>\n",
       "      <td>4</td>\n",
       "      <td>3</td>\n",
       "      <td>1</td>\n",
       "      <td>0</td>\n",
       "      <td>72</td>\n",
       "      <td>85.90</td>\n",
       "      <td>6110.75</td>\n",
       "    </tr>\n",
       "    <tr>\n",
       "      <th>5426</th>\n",
       "      <td>2</td>\n",
       "      <td>3</td>\n",
       "      <td>1</td>\n",
       "      <td>0</td>\n",
       "      <td>62</td>\n",
       "      <td>65.10</td>\n",
       "      <td>3846.75</td>\n",
       "    </tr>\n",
       "    <tr>\n",
       "      <th>3563</th>\n",
       "      <td>1</td>\n",
       "      <td>1</td>\n",
       "      <td>3</td>\n",
       "      <td>0</td>\n",
       "      <td>1</td>\n",
       "      <td>20.00</td>\n",
       "      <td>20.00</td>\n",
       "    </tr>\n",
       "    <tr>\n",
       "      <th>2096</th>\n",
       "      <td>3</td>\n",
       "      <td>1</td>\n",
       "      <td>2</td>\n",
       "      <td>0</td>\n",
       "      <td>33</td>\n",
       "      <td>70.40</td>\n",
       "      <td>2406.10</td>\n",
       "    </tr>\n",
       "    <tr>\n",
       "      <th>7019</th>\n",
       "      <td>2</td>\n",
       "      <td>3</td>\n",
       "      <td>3</td>\n",
       "      <td>0</td>\n",
       "      <td>56</td>\n",
       "      <td>24.45</td>\n",
       "      <td>1385.85</td>\n",
       "    </tr>\n",
       "  </tbody>\n",
       "</table>\n",
       "</div>"
      ],
      "text/plain": [
       "      payment_type_id  contract_type_id  internet_service_type_id  \\\n",
       "5474                4                 3                         1   \n",
       "5426                2                 3                         1   \n",
       "3563                1                 1                         3   \n",
       "2096                3                 1                         2   \n",
       "7019                2                 3                         3   \n",
       "\n",
       "      senior_citizen  tenure  monthly_charges  total_charges  \n",
       "5474               0      72            85.90        6110.75  \n",
       "5426               0      62            65.10        3846.75  \n",
       "3563               0       1            20.00          20.00  \n",
       "2096               0      33            70.40        2406.10  \n",
       "7019               0      56            24.45        1385.85  "
      ]
     },
     "execution_count": 30,
     "metadata": {},
     "output_type": "execute_result"
    }
   ],
   "source": [
    "X_train.info()\n",
    "X_train.head()"
   ]
  },
  {
   "cell_type": "markdown",
   "metadata": {},
   "source": [
    "### Model - Baseline"
   ]
  },
  {
   "cell_type": "code",
   "execution_count": 33,
   "metadata": {},
   "outputs": [
    {
     "data": {
      "text/plain": [
       "DecisionTreeClassifier(class_weight=None, criterion='gini', max_depth=3,\n",
       "                       max_features=None, max_leaf_nodes=None,\n",
       "                       min_impurity_decrease=0.0, min_impurity_split=None,\n",
       "                       min_samples_leaf=1, min_samples_split=2,\n",
       "                       min_weight_fraction_leaf=0.0, presort=False,\n",
       "                       random_state=123, splitter='best')"
      ]
     },
     "execution_count": 33,
     "metadata": {},
     "output_type": "execute_result"
    }
   ],
   "source": [
    "# building model with a decision tree and using a random state of 123\n",
    "clf = DecisionTreeClassifier(max_depth=3, random_state=123)\n",
    "clf.fit(X_train, y_train)"
   ]
  },
  {
   "cell_type": "code",
   "execution_count": 34,
   "metadata": {},
   "outputs": [],
   "source": [
    "y_pred = clf.predict(X_train)\n",
    "y_pred_proba = clf.predict_proba(X_train)"
   ]
  },
  {
   "cell_type": "markdown",
   "metadata": {},
   "source": [
    "### Evaluate - Baseline"
   ]
  },
  {
   "cell_type": "code",
   "execution_count": 35,
   "metadata": {},
   "outputs": [
    {
     "name": "stdout",
     "output_type": "stream",
     "text": [
      "Accuracy of Decision Tree classifier on training set: 0.79\n"
     ]
    }
   ],
   "source": [
    "print('Accuracy of Decision Tree classifier on training set: {:.2f}'\n",
    "     .format(clf.score(X_train, y_train)))"
   ]
  },
  {
   "cell_type": "code",
   "execution_count": 36,
   "metadata": {},
   "outputs": [
    {
     "data": {
      "text/plain": [
       "array([[3900,  250],\n",
       "       [ 931,  544]])"
      ]
     },
     "execution_count": 36,
     "metadata": {},
     "output_type": "execute_result"
    }
   ],
   "source": [
    "confusion_matrix(y_train, y_pred)"
   ]
  },
  {
   "cell_type": "code",
   "execution_count": 37,
   "metadata": {},
   "outputs": [
    {
     "name": "stdout",
     "output_type": "stream",
     "text": [
      "              precision    recall  f1-score   support\n",
      "\n",
      "           0       0.81      0.94      0.87      4150\n",
      "           1       0.69      0.37      0.48      1475\n",
      "\n",
      "    accuracy                           0.79      5625\n",
      "   macro avg       0.75      0.65      0.67      5625\n",
      "weighted avg       0.78      0.79      0.77      5625\n",
      "\n"
     ]
    }
   ],
   "source": [
    "print(classification_report(y_train, y_pred))"
   ]
  },
  {
   "cell_type": "code",
   "execution_count": 38,
   "metadata": {},
   "outputs": [
    {
     "data": {
      "text/plain": [
       "'telco_decision_tree.pdf'"
      ]
     },
     "execution_count": 38,
     "metadata": {},
     "output_type": "execute_result"
    }
   ],
   "source": [
    "dot_data = export_graphviz(clf, out_file=None) \n",
    "graph = Source(dot_data) \n",
    "\n",
    "graph.render('telco_decision_tree', view=False)"
   ]
  },
  {
   "cell_type": "markdown",
   "metadata": {},
   "source": [
    "### Prepare - MVP "
   ]
  },
  {
   "cell_type": "code",
   "execution_count": 39,
   "metadata": {},
   "outputs": [],
   "source": [
    "# create new train and test for updated model\n",
    "train1, test1 = split_scale.split_my_data(df, .80)"
   ]
  },
  {
   "cell_type": "code",
   "execution_count": 40,
   "metadata": {},
   "outputs": [],
   "source": [
    "# encode churn value for plotting\n",
    "train1, test1 = prep.encode(train1, test1, \"churn\")"
   ]
  },
  {
   "cell_type": "code",
   "execution_count": 41,
   "metadata": {},
   "outputs": [],
   "source": [
    "# drop encoded columns\n",
    "train1.drop(columns=[\"payment_type_id\",\"contract_type_id\",\"internet_service_type_id\"], inplace=True)\n",
    "test1.drop(columns=[\"payment_type_id\",\"contract_type_id\",\"internet_service_type_id\"], inplace=True)"
   ]
  },
  {
   "cell_type": "code",
   "execution_count": 42,
   "metadata": {},
   "outputs": [
    {
     "name": "stdout",
     "output_type": "stream",
     "text": [
      "<class 'pandas.core.frame.DataFrame'>\n",
      "Int64Index: 5625 entries, 5474 to 3582\n",
      "Data columns (total 21 columns):\n",
      "customer_id              5625 non-null object\n",
      "gender                   5625 non-null object\n",
      "senior_citizen           5625 non-null int64\n",
      "partner                  5625 non-null object\n",
      "dependents               5625 non-null object\n",
      "tenure                   5625 non-null int64\n",
      "phone_service            5625 non-null object\n",
      "multiple_lines           5625 non-null object\n",
      "online_security          5625 non-null object\n",
      "online_backup            5625 non-null object\n",
      "device_protection        5625 non-null object\n",
      "tech_support             5625 non-null object\n",
      "streaming_tv             5625 non-null object\n",
      "streaming_movies         5625 non-null object\n",
      "paperless_billing        5625 non-null object\n",
      "monthly_charges          5625 non-null float64\n",
      "total_charges            5625 non-null float64\n",
      "churn                    5625 non-null int64\n",
      "internet_service_type    5625 non-null object\n",
      "contract_type            5625 non-null object\n",
      "payment_type             5625 non-null object\n",
      "dtypes: float64(2), int64(3), object(16)\n",
      "memory usage: 966.8+ KB\n"
     ]
    },
    {
     "data": {
      "text/html": [
       "<div>\n",
       "<style scoped>\n",
       "    .dataframe tbody tr th:only-of-type {\n",
       "        vertical-align: middle;\n",
       "    }\n",
       "\n",
       "    .dataframe tbody tr th {\n",
       "        vertical-align: top;\n",
       "    }\n",
       "\n",
       "    .dataframe thead th {\n",
       "        text-align: right;\n",
       "    }\n",
       "</style>\n",
       "<table border=\"1\" class=\"dataframe\">\n",
       "  <thead>\n",
       "    <tr style=\"text-align: right;\">\n",
       "      <th></th>\n",
       "      <th>customer_id</th>\n",
       "      <th>gender</th>\n",
       "      <th>senior_citizen</th>\n",
       "      <th>partner</th>\n",
       "      <th>dependents</th>\n",
       "      <th>tenure</th>\n",
       "      <th>phone_service</th>\n",
       "      <th>multiple_lines</th>\n",
       "      <th>online_security</th>\n",
       "      <th>online_backup</th>\n",
       "      <th>...</th>\n",
       "      <th>tech_support</th>\n",
       "      <th>streaming_tv</th>\n",
       "      <th>streaming_movies</th>\n",
       "      <th>paperless_billing</th>\n",
       "      <th>monthly_charges</th>\n",
       "      <th>total_charges</th>\n",
       "      <th>churn</th>\n",
       "      <th>internet_service_type</th>\n",
       "      <th>contract_type</th>\n",
       "      <th>payment_type</th>\n",
       "    </tr>\n",
       "  </thead>\n",
       "  <tbody>\n",
       "    <tr>\n",
       "      <th>5474</th>\n",
       "      <td>2226-ICFDO</td>\n",
       "      <td>Female</td>\n",
       "      <td>0</td>\n",
       "      <td>Yes</td>\n",
       "      <td>Yes</td>\n",
       "      <td>72</td>\n",
       "      <td>Yes</td>\n",
       "      <td>Yes</td>\n",
       "      <td>Yes</td>\n",
       "      <td>No</td>\n",
       "      <td>...</td>\n",
       "      <td>Yes</td>\n",
       "      <td>Yes</td>\n",
       "      <td>Yes</td>\n",
       "      <td>Yes</td>\n",
       "      <td>85.90</td>\n",
       "      <td>6110.75</td>\n",
       "      <td>0</td>\n",
       "      <td>DSL</td>\n",
       "      <td>Two year</td>\n",
       "      <td>Credit card (automatic)</td>\n",
       "    </tr>\n",
       "    <tr>\n",
       "      <th>5426</th>\n",
       "      <td>1221-GHZEP</td>\n",
       "      <td>Female</td>\n",
       "      <td>0</td>\n",
       "      <td>No</td>\n",
       "      <td>No</td>\n",
       "      <td>62</td>\n",
       "      <td>Yes</td>\n",
       "      <td>No</td>\n",
       "      <td>Yes</td>\n",
       "      <td>No</td>\n",
       "      <td>...</td>\n",
       "      <td>Yes</td>\n",
       "      <td>No</td>\n",
       "      <td>Yes</td>\n",
       "      <td>Yes</td>\n",
       "      <td>65.10</td>\n",
       "      <td>3846.75</td>\n",
       "      <td>0</td>\n",
       "      <td>DSL</td>\n",
       "      <td>Two year</td>\n",
       "      <td>Mailed check</td>\n",
       "    </tr>\n",
       "    <tr>\n",
       "      <th>3563</th>\n",
       "      <td>3807-XHCJH</td>\n",
       "      <td>Female</td>\n",
       "      <td>0</td>\n",
       "      <td>Yes</td>\n",
       "      <td>Yes</td>\n",
       "      <td>1</td>\n",
       "      <td>Yes</td>\n",
       "      <td>No</td>\n",
       "      <td>No internet service</td>\n",
       "      <td>No internet service</td>\n",
       "      <td>...</td>\n",
       "      <td>No internet service</td>\n",
       "      <td>No internet service</td>\n",
       "      <td>No internet service</td>\n",
       "      <td>No</td>\n",
       "      <td>20.00</td>\n",
       "      <td>20.00</td>\n",
       "      <td>0</td>\n",
       "      <td>None</td>\n",
       "      <td>Month-to-month</td>\n",
       "      <td>Electronic check</td>\n",
       "    </tr>\n",
       "    <tr>\n",
       "      <th>2096</th>\n",
       "      <td>4067-HLYQI</td>\n",
       "      <td>Female</td>\n",
       "      <td>0</td>\n",
       "      <td>No</td>\n",
       "      <td>No</td>\n",
       "      <td>33</td>\n",
       "      <td>Yes</td>\n",
       "      <td>No</td>\n",
       "      <td>No</td>\n",
       "      <td>No</td>\n",
       "      <td>...</td>\n",
       "      <td>No</td>\n",
       "      <td>No</td>\n",
       "      <td>No</td>\n",
       "      <td>Yes</td>\n",
       "      <td>70.40</td>\n",
       "      <td>2406.10</td>\n",
       "      <td>0</td>\n",
       "      <td>Fiber optic</td>\n",
       "      <td>Month-to-month</td>\n",
       "      <td>Bank transfer (automatic)</td>\n",
       "    </tr>\n",
       "    <tr>\n",
       "      <th>7019</th>\n",
       "      <td>9593-CVZKR</td>\n",
       "      <td>Female</td>\n",
       "      <td>0</td>\n",
       "      <td>Yes</td>\n",
       "      <td>Yes</td>\n",
       "      <td>56</td>\n",
       "      <td>Yes</td>\n",
       "      <td>Yes</td>\n",
       "      <td>No internet service</td>\n",
       "      <td>No internet service</td>\n",
       "      <td>...</td>\n",
       "      <td>No internet service</td>\n",
       "      <td>No internet service</td>\n",
       "      <td>No internet service</td>\n",
       "      <td>Yes</td>\n",
       "      <td>24.45</td>\n",
       "      <td>1385.85</td>\n",
       "      <td>0</td>\n",
       "      <td>None</td>\n",
       "      <td>Two year</td>\n",
       "      <td>Mailed check</td>\n",
       "    </tr>\n",
       "  </tbody>\n",
       "</table>\n",
       "<p>5 rows × 21 columns</p>\n",
       "</div>"
      ],
      "text/plain": [
       "     customer_id  gender  senior_citizen partner dependents  tenure  \\\n",
       "5474  2226-ICFDO  Female               0     Yes        Yes      72   \n",
       "5426  1221-GHZEP  Female               0      No         No      62   \n",
       "3563  3807-XHCJH  Female               0     Yes        Yes       1   \n",
       "2096  4067-HLYQI  Female               0      No         No      33   \n",
       "7019  9593-CVZKR  Female               0     Yes        Yes      56   \n",
       "\n",
       "     phone_service multiple_lines      online_security        online_backup  \\\n",
       "5474           Yes            Yes                  Yes                   No   \n",
       "5426           Yes             No                  Yes                   No   \n",
       "3563           Yes             No  No internet service  No internet service   \n",
       "2096           Yes             No                   No                   No   \n",
       "7019           Yes            Yes  No internet service  No internet service   \n",
       "\n",
       "      ...         tech_support         streaming_tv     streaming_movies  \\\n",
       "5474  ...                  Yes                  Yes                  Yes   \n",
       "5426  ...                  Yes                   No                  Yes   \n",
       "3563  ...  No internet service  No internet service  No internet service   \n",
       "2096  ...                   No                   No                   No   \n",
       "7019  ...  No internet service  No internet service  No internet service   \n",
       "\n",
       "     paperless_billing monthly_charges  total_charges  churn  \\\n",
       "5474               Yes           85.90        6110.75      0   \n",
       "5426               Yes           65.10        3846.75      0   \n",
       "3563                No           20.00          20.00      0   \n",
       "2096               Yes           70.40        2406.10      0   \n",
       "7019               Yes           24.45        1385.85      0   \n",
       "\n",
       "      internet_service_type   contract_type               payment_type  \n",
       "5474                    DSL        Two year    Credit card (automatic)  \n",
       "5426                    DSL        Two year               Mailed check  \n",
       "3563                   None  Month-to-month           Electronic check  \n",
       "2096            Fiber optic  Month-to-month  Bank transfer (automatic)  \n",
       "7019                   None        Two year               Mailed check  \n",
       "\n",
       "[5 rows x 21 columns]"
      ]
     },
     "execution_count": 42,
     "metadata": {},
     "output_type": "execute_result"
    }
   ],
   "source": [
    "train1.info()\n",
    "train1.head()"
   ]
  },
  {
   "cell_type": "markdown",
   "metadata": {},
   "source": [
    "### Explore - MVP"
   ]
  },
  {
   "cell_type": "markdown",
   "metadata": {},
   "source": [
    "Q1: Could the month in which they signed up influence churn? i.e. if a cohort is identified by tenure, is there a cohort or cohorts who have a higher rate of churn than other cohorts? (Plot the rate of churn on a line chart where x is the tenure and y is the rate of churn (customers churned/total customers)"
   ]
  },
  {
   "cell_type": "markdown",
   "metadata": {},
   "source": [
    "##### Explore tenure"
   ]
  },
  {
   "cell_type": "code",
   "execution_count": 43,
   "metadata": {},
   "outputs": [
    {
     "data": {
      "image/png": "[encoded data removed]",
      "text/plain": [
       "<Figure size 432x288 with 1 Axes>"
      ]
     },
     "metadata": {
      "needs_background": "light"
     },
     "output_type": "display_data"
    }
   ],
   "source": [
    "sns.lineplot(x=\"tenure\", y=\"churn\", data=train1)\n",
    "plt.show()"
   ]
  },
  {
   "cell_type": "markdown",
   "metadata": {},
   "source": [
    "> The highest churn rates happen in the beginning, specifically in the first month"
   ]
  },
  {
   "cell_type": "markdown",
   "metadata": {},
   "source": [
    "Q2: Are there features that indicate a higher propensity to churn? like type of internet service, type of phone service, online security and backup, senior citizens, paying more than x% of customers with the same services, etc.?"
   ]
  },
  {
   "cell_type": "markdown",
   "metadata": {},
   "source": [
    "##### Explore payment types"
   ]
  },
  {
   "cell_type": "code",
   "execution_count": 44,
   "metadata": {},
   "outputs": [
    {
     "data": {
      "image/png": "[encoded data removed]",
      "text/plain": [
       "<Figure size 432x288 with 1 Axes>"
      ]
     },
     "metadata": {
      "needs_background": "light"
     },
     "output_type": "display_data"
    }
   ],
   "source": [
    "# plot payment types\n",
    "fig = sns.barplot(x=\"payment_type\", y=\"churn\", data=train1)\n",
    "fig.set_xticklabels([\"Auto Credit Card\", \"Mailed Check\",\"Electronic Check\", \"Auto Bank Transfer\"])\n",
    "plt.xticks(rotation=-70)\n",
    "plt.show()"
   ]
  },
  {
   "cell_type": "markdown",
   "metadata": {},
   "source": [
    "> Non-automatic payment types (mailed check and electronic check) have higher churn rates"
   ]
  },
  {
   "cell_type": "markdown",
   "metadata": {},
   "source": [
    "##### Explore phone services"
   ]
  },
  {
   "cell_type": "code",
   "execution_count": 45,
   "metadata": {},
   "outputs": [
    {
     "name": "stdout",
     "output_type": "stream",
     "text": [
      "No                  2736\n",
      "Yes                 2339\n",
      "No phone service     550\n",
      "Name: multiple_lines, dtype: int64\n",
      "\n",
      "Yes    5075\n",
      "No      550\n",
      "Name: phone_service, dtype: int64\n"
     ]
    }
   ],
   "source": [
    "# multiple lines is redundant information of phone service, therefore, drop phone service column\n",
    "print(train1.multiple_lines.value_counts())\n",
    "print()\n",
    "print(train1.phone_service.value_counts())"
   ]
  },
  {
   "cell_type": "code",
   "execution_count": 46,
   "metadata": {},
   "outputs": [],
   "source": [
    "train1.drop(columns = \"phone_service\", inplace=True)\n",
    "test1.drop(columns = \"phone_service\", inplace=True)"
   ]
  },
  {
   "cell_type": "code",
   "execution_count": 47,
   "metadata": {},
   "outputs": [
    {
     "data": {
      "image/png": "[encoded data removed]",
      "text/plain": [
       "<Figure size 432x288 with 1 Axes>"
      ]
     },
     "metadata": {
      "needs_background": "light"
     },
     "output_type": "display_data"
    }
   ],
   "source": [
    "# plot phone type\n",
    "sns.barplot(x=\"multiple_lines\", y=\"churn\", data=train1)\n",
    "plt.xticks(rotation=-70)\n",
    "plt.show()"
   ]
  },
  {
   "cell_type": "markdown",
   "metadata": {},
   "source": [
    "> The phone service type minimally affects churn"
   ]
  },
  {
   "cell_type": "markdown",
   "metadata": {},
   "source": [
    "##### Explore online services"
   ]
  },
  {
   "cell_type": "markdown",
   "metadata": {},
   "source": [
    "H0: online security is indepedent of online backup"
   ]
  },
  {
   "cell_type": "code",
   "execution_count": 48,
   "metadata": {},
   "outputs": [
    {
     "name": "stdout",
     "output_type": "stream",
     "text": [
      "Observed\n",
      "[[1756    0 1033]\n",
      " [   0 1232    0]\n",
      " [ 710    0  894]]\n",
      "\n",
      "Expected\n",
      "[[1222.6976      610.85297778  955.44942222]\n",
      " [ 540.1088      269.83537778  422.05582222]\n",
      " [ 703.1936      351.31164444  549.49475556]]\n",
      "\n",
      "chi^2 = 5810.1221\n",
      "p     = 0.0000\n"
     ]
    }
   ],
   "source": [
    "observed = pd.crosstab(train1.online_security,train1.online_backup)\n",
    "chi2, p, degf, expected = stats.chi2_contingency(observed)\n",
    "\n",
    "print('Observed')\n",
    "print(observed.values)\n",
    "print('\\nExpected')\n",
    "print(expected)\n",
    "print('')\n",
    "print(f'chi^2 = {chi2:.4f}')\n",
    "print(f'p     = {p:.4f}')"
   ]
  },
  {
   "cell_type": "markdown",
   "metadata": {},
   "source": [
    "The p-value is zero, therefore, we reject the null hypothesis"
   ]
  },
  {
   "cell_type": "code",
   "execution_count": 49,
   "metadata": {},
   "outputs": [
    {
     "name": "stdout",
     "output_type": "stream",
     "text": [
      "No                     2789\n",
      "Yes                    1604\n",
      "No internet service    1232\n",
      "Name: online_security, dtype: int64\n",
      "\n",
      "No                     2466\n",
      "Yes                    1927\n",
      "No internet service    1232\n",
      "Name: online_backup, dtype: int64\n"
     ]
    }
   ],
   "source": [
    "print(train1.online_security.value_counts())\n",
    "print()\n",
    "print(train.online_backup.value_counts())"
   ]
  },
  {
   "cell_type": "code",
   "execution_count": 50,
   "metadata": {},
   "outputs": [
    {
     "data": {
      "image/png": "[encoded data removed]",
      "text/plain": [
       "<Figure size 432x288 with 1 Axes>"
      ]
     },
     "metadata": {
      "needs_background": "light"
     },
     "output_type": "display_data"
    }
   ],
   "source": [
    "# plot online security\n",
    "sns.barplot(x=\"online_security\", y=\"churn\", data=train1)\n",
    "plt.xticks(rotation=-70)\n",
    "plt.show()"
   ]
  },
  {
   "cell_type": "markdown",
   "metadata": {},
   "source": [
    "> People with no online security are more likely to stay. Does the online security have an unreasonable price? Does having online security encourage folks to stay?"
   ]
  },
  {
   "cell_type": "code",
   "execution_count": 51,
   "metadata": {},
   "outputs": [
    {
     "data": {
      "image/png": "[encoded data removed]",
      "text/plain": [
       "<Figure size 432x288 with 1 Axes>"
      ]
     },
     "metadata": {
      "needs_background": "light"
     },
     "output_type": "display_data"
    }
   ],
   "source": [
    "# plot online backup\n",
    "sns.barplot(x=\"online_backup\", y=\"churn\", data=train1)\n",
    "plt.xticks(rotation=-70)\n",
    "plt.show()"
   ]
  },
  {
   "cell_type": "markdown",
   "metadata": {},
   "source": [
    "> People without online backup are more likely to churn. Is our online backup too expensive and folks look for it elsewhere? Or does having this feature make them feel more secure and they are more likely to stay?"
   ]
  },
  {
   "cell_type": "code",
   "execution_count": 52,
   "metadata": {},
   "outputs": [],
   "source": [
    "# make a new column combining online security and backup\n",
    "conditions = [\n",
    "    (train1.online_security == \"No\") & (train1.online_backup == \"No\"),\n",
    "    (train1.online_security == \"Yes\") & (train1.online_backup == \"No\"),\n",
    "    (train1.online_security == \"No\") & (train1.online_backup == \"Yes\"),\n",
    "    (train1.online_security == \"Yes\") & (train1.online_backup == \"Yes\")]\n",
    "\n",
    "choices = ['None', 'Security', 'Backup', 'Both']\n",
    "train1['online_additions'] = np.select(conditions, choices, default='No internet')\n",
    "\n",
    "# test data\n",
    "conditions = [\n",
    "    (test1.online_security == \"No\") & (test1.online_backup == \"No\"),\n",
    "    (test1.online_security == \"Yes\") & (test1.online_backup == \"No\"),\n",
    "    (test1.online_security == \"No\") & (test1.online_backup == \"Yes\"),\n",
    "    (test1.online_security == \"Yes\") & (test1.online_backup == \"Yes\")]\n",
    "\n",
    "choices = ['None', 'Security', 'Backup', 'Both']\n",
    "test1['online_additions'] = np.select(conditions, choices, default='No internet')"
   ]
  },
  {
   "cell_type": "code",
   "execution_count": 53,
   "metadata": {},
   "outputs": [],
   "source": [
    "# drop old online columns\n",
    "train1.drop(columns=[\"online_security\",\"online_backup\"],inplace=True)\n",
    "test1.drop(columns=[\"online_security\",\"online_backup\"],inplace=True)"
   ]
  },
  {
   "cell_type": "code",
   "execution_count": 54,
   "metadata": {},
   "outputs": [
    {
     "data": {
      "image/png": "[encoded data removed]",
      "text/plain": [
       "<Figure size 432x288 with 1 Axes>"
      ]
     },
     "metadata": {
      "needs_background": "light"
     },
     "output_type": "display_data"
    }
   ],
   "source": [
    "# plot all services \n",
    "sns.barplot(x=\"online_additions\", y=\"churn\", data=train1)\n",
    "plt.xticks(rotation=-80)\n",
    "plt.show()"
   ]
  },
  {
   "cell_type": "markdown",
   "metadata": {},
   "source": [
    "> As seen earlier, it is shown that people without any online services are more likely to churn"
   ]
  },
  {
   "cell_type": "markdown",
   "metadata": {},
   "source": [
    "##### Explore senior citizens"
   ]
  },
  {
   "cell_type": "code",
   "execution_count": 55,
   "metadata": {},
   "outputs": [
    {
     "data": {
      "text/plain": [
       "0    4729\n",
       "1     896\n",
       "Name: senior_citizen, dtype: int64"
      ]
     },
     "execution_count": 55,
     "metadata": {},
     "output_type": "execute_result"
    }
   ],
   "source": [
    "train1.senior_citizen.value_counts()"
   ]
  },
  {
   "cell_type": "code",
   "execution_count": 56,
   "metadata": {},
   "outputs": [
    {
     "data": {
      "image/png": "[encoded data removed]",
      "text/plain": [
       "<Figure size 432x288 with 1 Axes>"
      ]
     },
     "metadata": {
      "needs_background": "light"
     },
     "output_type": "display_data"
    }
   ],
   "source": [
    "fig = sns.barplot(x=\"senior_citizen\", y=\"churn\", data=train1)\n",
    "fig.set_xticklabels([\"No\",\"Yes\"])\n",
    "plt.show()"
   ]
  },
  {
   "cell_type": "markdown",
   "metadata": {},
   "source": [
    "> Senior citizens have a higher churn rate than non-senior citizens."
   ]
  },
  {
   "cell_type": "markdown",
   "metadata": {},
   "source": [
    "##### Explore streaming services"
   ]
  },
  {
   "cell_type": "markdown",
   "metadata": {},
   "source": [
    "H0: Streaming movies is indepedent of streaming tv"
   ]
  },
  {
   "cell_type": "code",
   "execution_count": 57,
   "metadata": {},
   "outputs": [
    {
     "name": "stdout",
     "output_type": "stream",
     "text": [
      "Observed\n",
      "[[1615    0  610]\n",
      " [   0 1232    0]\n",
      " [ 628    0 1540]]\n",
      "\n",
      "Expected\n",
      "[[887.23111111 487.32444444 850.44444444]\n",
      " [491.26684444 269.83537778 470.89777778]\n",
      " [864.50204444 474.84017778 828.65777778]]\n",
      "\n",
      "chi^2 = 6695.4471\n",
      "p     = 0.0000\n"
     ]
    }
   ],
   "source": [
    "observed = pd.crosstab(train1.streaming_movies,train1.streaming_tv)\n",
    "chi2, p, degf, expected = stats.chi2_contingency(observed)\n",
    "\n",
    "print('Observed')\n",
    "print(observed.values)\n",
    "print('\\nExpected')\n",
    "print(expected)\n",
    "print('')\n",
    "print(f'chi^2 = {chi2:.4f}')\n",
    "print(f'p     = {p:.4f}')"
   ]
  },
  {
   "cell_type": "markdown",
   "metadata": {},
   "source": [
    "The p-value is zero, therefore, we reject the null hypothesis"
   ]
  },
  {
   "cell_type": "code",
   "execution_count": 58,
   "metadata": {},
   "outputs": [
    {
     "name": "stdout",
     "output_type": "stream",
     "text": [
      "No                     2225\n",
      "Yes                    2168\n",
      "No internet service    1232\n",
      "Name: streaming_movies, dtype: int64\n",
      "\n",
      "No                     2243\n",
      "Yes                    2150\n",
      "No internet service    1232\n",
      "Name: streaming_tv, dtype: int64\n"
     ]
    }
   ],
   "source": [
    "print(train1.streaming_movies.value_counts())\n",
    "print()\n",
    "print(train1.streaming_tv.value_counts())"
   ]
  },
  {
   "cell_type": "code",
   "execution_count": 59,
   "metadata": {},
   "outputs": [],
   "source": [
    "# make a new column combining streaming services\n",
    "conditions = [\n",
    "    (train1.streaming_movies == \"No\") & (train1.streaming_tv == \"No\"),\n",
    "    (train1.streaming_movies == \"No\") & (train1.streaming_tv == \"Yes\"),\n",
    "    (train1.streaming_movies == \"Yes\") & (train1.streaming_tv == \"No\"),\n",
    "    (train1.streaming_movies == \"Yes\") & (train1.streaming_tv == \"Yes\")]\n",
    "    \n",
    "choices = ['No streaming', 'One stream', 'One stream', 'Two streams']\n",
    "train1['streaming'] = np.select(conditions, choices, default='No internet')\n",
    "\n",
    "# apply to test data\n",
    "conditions = [\n",
    "    (test1.streaming_movies == \"No\") & (test1.streaming_tv == \"No\"),\n",
    "    (test1.streaming_movies == \"No\") & (test1.streaming_tv == \"Yes\"),\n",
    "    (test1.streaming_movies == \"Yes\") & (test1.streaming_tv == \"No\"),\n",
    "    (test1.streaming_movies == \"Yes\") & (test1.streaming_tv == \"Yes\")]\n",
    "    \n",
    "choices = ['No streaming', 'One stream', 'One stream', 'Two streams']\n",
    "test1['streaming'] = np.select(conditions, choices, default='No internet')"
   ]
  },
  {
   "cell_type": "code",
   "execution_count": 60,
   "metadata": {},
   "outputs": [
    {
     "data": {
      "text/plain": [
       "No streaming    1615\n",
       "Two streams     1540\n",
       "One stream      1238\n",
       "No internet     1232\n",
       "Name: streaming, dtype: int64"
      ]
     },
     "execution_count": 60,
     "metadata": {},
     "output_type": "execute_result"
    }
   ],
   "source": [
    "train1.streaming.value_counts()"
   ]
  },
  {
   "cell_type": "code",
   "execution_count": 61,
   "metadata": {},
   "outputs": [],
   "source": [
    "# drop old streaming columns\n",
    "train1.drop(columns=[\"streaming_movies\",\"streaming_tv\"], inplace=True)\n",
    "test1.drop(columns=[\"streaming_movies\",\"streaming_tv\"], inplace=True)"
   ]
  },
  {
   "cell_type": "code",
   "execution_count": 62,
   "metadata": {},
   "outputs": [
    {
     "data": {
      "image/png": "[encoded data removed]",
      "text/plain": [
       "<Figure size 432x288 with 1 Axes>"
      ]
     },
     "metadata": {
      "needs_background": "light"
     },
     "output_type": "display_data"
    }
   ],
   "source": [
    "sns.barplot(x=\"streaming\", y=\"churn\", data=train1)\n",
    "plt.xticks(rotation=-80)\n",
    "plt.show()"
   ]
  },
  {
   "cell_type": "markdown",
   "metadata": {},
   "source": [
    "> There is minimal difference in churn amoung streaming services"
   ]
  },
  {
   "cell_type": "markdown",
   "metadata": {},
   "source": [
    "##### Explore family"
   ]
  },
  {
   "cell_type": "code",
   "execution_count": 63,
   "metadata": {},
   "outputs": [],
   "source": [
    "# combine partner and dependents\n",
    "conditions = [\n",
    "    (train1.partner == \"No\") & (train1.dependents == \"No\"),\n",
    "    (train1.partner == \"No\") & (train1.dependents == \"Yes\"),\n",
    "    (train1.partner == \"Yes\") & (train1.dependents == \"No\"),\n",
    "    (train1.partner == \"Yes\") & (train1.dependents == \"Yes\")]\n",
    "    \n",
    "choices = ['Single', 'Single with kids', 'Partner', 'Partner with kids']\n",
    "train1['household'] = np.select(conditions, choices, default='Lost')\n",
    "\n",
    "# apply to test data\n",
    "conditions = [\n",
    "    (test1.partner == \"No\") & (test1.dependents == \"No\"),\n",
    "    (test1.partner == \"No\") & (test1.dependents == \"Yes\"),\n",
    "    (test1.partner == \"Yes\") & (test1.dependents == \"No\"),\n",
    "    (test1.partner == \"Yes\") & (test1.dependents == \"Yes\")]\n",
    "    \n",
    "choices = ['Single', 'Single with kids', 'Partner', 'Partner with kids']\n",
    "test1['household'] = np.select(conditions, choices, default='Lost')"
   ]
  },
  {
   "cell_type": "code",
   "execution_count": 64,
   "metadata": {},
   "outputs": [],
   "source": [
    "# drop old columns\n",
    "train1.drop(columns=[\"partner\",\"dependents\"], inplace=True)\n",
    "test1.drop(columns=[\"partner\",\"dependents\"], inplace=True)"
   ]
  },
  {
   "cell_type": "code",
   "execution_count": 65,
   "metadata": {},
   "outputs": [
    {
     "name": "stdout",
     "output_type": "stream",
     "text": [
      "<class 'pandas.core.frame.DataFrame'>\n",
      "Int64Index: 5625 entries, 5474 to 3582\n",
      "Data columns (total 17 columns):\n",
      "customer_id              5625 non-null object\n",
      "gender                   5625 non-null object\n",
      "senior_citizen           5625 non-null int64\n",
      "tenure                   5625 non-null int64\n",
      "multiple_lines           5625 non-null object\n",
      "device_protection        5625 non-null object\n",
      "tech_support             5625 non-null object\n",
      "paperless_billing        5625 non-null object\n",
      "monthly_charges          5625 non-null float64\n",
      "total_charges            5625 non-null float64\n",
      "churn                    5625 non-null int64\n",
      "internet_service_type    5625 non-null object\n",
      "contract_type            5625 non-null object\n",
      "payment_type             5625 non-null object\n",
      "online_additions         5625 non-null object\n",
      "streaming                5625 non-null object\n",
      "household                5625 non-null object\n",
      "dtypes: float64(2), int64(3), object(12)\n",
      "memory usage: 951.0+ KB\n"
     ]
    }
   ],
   "source": [
    "train1.info()"
   ]
  },
  {
   "cell_type": "code",
   "execution_count": 66,
   "metadata": {},
   "outputs": [
    {
     "data": {
      "image/png": "[encoded data removed]",
      "text/plain": [
       "<Figure size 432x288 with 1 Axes>"
      ]
     },
     "metadata": {
      "needs_background": "light"
     },
     "output_type": "display_data"
    }
   ],
   "source": [
    "sns.barplot(x=\"household\", y=\"churn\", data=train1)\n",
    "plt.xticks(rotation=-80)\n",
    "plt.show()"
   ]
  },
  {
   "cell_type": "markdown",
   "metadata": {},
   "source": [
    "> Single people are more likely to churn. Surely there is some other way to explain this. "
   ]
  },
  {
   "cell_type": "code",
   "execution_count": 67,
   "metadata": {},
   "outputs": [
    {
     "data": {
      "image/png": "[encoded data removed]",
      "text/plain": [
       "<Figure size 432x288 with 1 Axes>"
      ]
     },
     "metadata": {
      "needs_background": "light"
     },
     "output_type": "display_data"
    }
   ],
   "source": [
    "sns.barplot(x=\"household\", y=\"monthly_charges\", data=train1)\n",
    "plt.xticks(rotation=-80)\n",
    "plt.show()"
   ]
  },
  {
   "cell_type": "markdown",
   "metadata": {},
   "source": [
    "> Everyone pays about the same amount. This implies that a single person is paying more per person that someone with a partner or kids."
   ]
  },
  {
   "cell_type": "markdown",
   "metadata": {},
   "source": [
    "##### Explore - paying more than x% of customers with the same services"
   ]
  },
  {
   "cell_type": "code",
   "execution_count": 68,
   "metadata": {},
   "outputs": [
    {
     "data": {
      "image/png": "[encoded data removed]",
      "text/plain": [
       "<Figure size 1152x288 with 4 Axes>"
      ]
     },
     "metadata": {
      "needs_background": "light"
     },
     "output_type": "display_data"
    },
    {
     "data": {
      "image/png": "[encoded data removed]",
      "text/plain": [
       "<Figure size 1152x288 with 4 Axes>"
      ]
     },
     "metadata": {
      "needs_background": "light"
     },
     "output_type": "display_data"
    },
    {
     "data": {
      "image/png": "[encoded data removed]",
      "text/plain": [
       "<Figure size 1152x288 with 3 Axes>"
      ]
     },
     "metadata": {
      "needs_background": "light"
     },
     "output_type": "display_data"
    }
   ],
   "source": [
    "# plotting all the objects on a violin plot\n",
    "features = ['gender', 'household', 'multiple_lines','device_protection']\n",
    "_, ax = plt.subplots(nrows=1, ncols=4, figsize=(16,4))\n",
    "for i, feature in enumerate(features):\n",
    "    sns.violinplot(feature, 'monthly_charges', hue='churn', data=train1, split=True, ax=ax[i], palette=\"Dark2\", scale=\"count\")\n",
    "\n",
    "plt.suptitle('Churn rates based on features')\n",
    "\n",
    "features = ['tech_support', 'paperless_billing', 'internet_service_type', 'contract_type']\n",
    "_, ax = plt.subplots(nrows=1, ncols=4, figsize=(16,4))\n",
    "for i, feature in enumerate(features):\n",
    "    sns.violinplot(feature, 'monthly_charges', hue='churn', data=train1, split=True, ax=ax[i], palette=\"Dark2\", scale=\"count\")\n",
    "    \n",
    "features = ['payment_type', 'online_additions', 'streaming']\n",
    "_, ax = plt.subplots(nrows=1, ncols=3, figsize=(16,4))\n",
    "for i, feature in enumerate(features):\n",
    "    sns.violinplot(feature, 'monthly_charges', hue='churn', data=train1, split=True, ax=ax[i], palette=\"Dark2\", scale=\"count\")\n",
    "\n",
    "plt.show()"
   ]
  },
  {
   "cell_type": "markdown",
   "metadata": {},
   "source": [
    "Q3. Is there a price threshold for specific services where the likelihood of churn increases once price for those services goes past that point? If so, what is that point for what service(s)?"
   ]
  },
  {
   "cell_type": "code",
   "execution_count": 69,
   "metadata": {},
   "outputs": [
    {
     "name": "stdout",
     "output_type": "stream",
     "text": [
      "The rate of churn at various price points for multiple lines:\n",
      "18 0.02631578947368421\n",
      "28 nan\n",
      "38 1.0\n",
      "48 0.26506024096385544\n",
      "58 0.13274336283185842\n",
      "68 0.3333333333333333\n",
      "78 0.35141509433962265\n",
      "88 0.32229580573951433\n",
      "98 0.401673640167364\n",
      "108 0.16532258064516128\n",
      "118 0.16666666666666666\n",
      "\n",
      "The rate of churn at various price points for one line:\n",
      "18 0.08902691511387163\n",
      "28 nan\n",
      "38 0.42657342657342656\n",
      "48 0.271523178807947\n",
      "58 0.08717948717948718\n",
      "68 0.4078341013824885\n",
      "78 0.3932926829268293\n",
      "88 0.41150442477876104\n",
      "98 0.2692307692307692\n",
      "108 0.3333333333333333\n",
      "118 nan\n",
      "\n",
      "The rate of churn at various price points for device protection:\n",
      "18 nan\n",
      "28 0.08571428571428572\n",
      "38 0.24242424242424243\n",
      "48 0.20245398773006135\n",
      "58 0.08888888888888889\n",
      "68 0.13440860215053763\n",
      "78 0.19614147909967847\n",
      "88 0.240625\n",
      "98 0.3671497584541063\n",
      "108 0.16393442622950818\n",
      "118 0.16666666666666666\n",
      "\n",
      "The rate of churn at various price points for tech support:\n",
      "18 nan\n",
      "28 0.14814814814814814\n",
      "38 0.07936507936507936\n",
      "48 0.16352201257861634\n",
      "58 0.10138248847926268\n",
      "68 0.07731958762886598\n",
      "78 0.128\n",
      "88 0.14953271028037382\n",
      "98 0.28448275862068967\n",
      "108 0.17592592592592593\n",
      "118 0.16666666666666666\n",
      "\n",
      "The rate of churn at various price points for dsl:\n",
      "18 0.42028985507246375\n",
      "28 0.2709677419354839\n",
      "38 0.3321678321678322\n",
      "48 0.24165029469548133\n",
      "58 0.09809264305177112\n",
      "68 0.09558823529411764\n",
      "78 0.03980099502487562\n",
      "88 0.014492753623188406\n",
      "98 nan\n",
      "108 nan\n",
      "118 nan\n",
      "\n",
      "The rate of churn at various price points for fiber optic:\n",
      "18 nan\n",
      "28 nan\n",
      "38 nan\n",
      "48 nan\n",
      "58 1.0\n",
      "68 0.5594405594405595\n",
      "78 0.4900181488203267\n",
      "88 0.3901639344262295\n",
      "98 0.37335526315789475\n",
      "108 0.17307692307692307\n",
      "118 0.16666666666666666\n",
      "\n",
      "The rate of churn at various price points for security:\n",
      "18 nan\n",
      "28 0.11363636363636363\n",
      "38 0.15789473684210525\n",
      "48 0.20454545454545456\n",
      "58 0.06593406593406594\n",
      "68 0.18\n",
      "78 0.16393442622950818\n",
      "88 0.288135593220339\n",
      "98 0.33695652173913043\n",
      "108 0.1875\n",
      "118 nan\n",
      "\n",
      "The rate of churn at various price points for backup:\n",
      "18 nan\n",
      "28 0.2558139534883721\n",
      "38 0.3125\n",
      "48 0.20535714285714285\n",
      "58 0.09523809523809523\n",
      "68 0.26881720430107525\n",
      "78 0.3423913043478261\n",
      "88 0.3333333333333333\n",
      "98 0.3821138211382114\n",
      "108 0.24615384615384617\n",
      "118 nan\n",
      "\n",
      "The rate of churn at various price points for security and backup:\n",
      "18 nan\n",
      "28 0.2\n",
      "38 0.058823529411764705\n",
      "48 0.0967741935483871\n",
      "58 0.06944444444444445\n",
      "68 0.06\n",
      "78 0.07874015748031496\n",
      "88 0.10666666666666667\n",
      "98 0.1717171717171717\n",
      "108 0.1419753086419753\n",
      "118 0.16666666666666666\n",
      "\n",
      "The rate of churn at various price points for two streams:\n",
      "18 nan\n",
      "28 nan\n",
      "38 0.5\n",
      "48 0.2289156626506024\n",
      "58 0.08955223880597014\n",
      "68 0.20652173913043478\n",
      "78 0.03508771929824561\n",
      "88 0.4205298013245033\n",
      "98 0.4014732965009208\n",
      "108 0.17307692307692307\n",
      "118 0.16666666666666666\n",
      "\n",
      "The rate of churn at various price points for one stream:\n",
      "18 nan\n",
      "28 0.64\n",
      "38 0.25882352941176473\n",
      "48 0.2073170731707317\n",
      "58 0.11409395973154363\n",
      "68 0.05389221556886228\n",
      "78 0.5606060606060606\n",
      "88 0.3194029850746269\n",
      "98 0.13846153846153847\n",
      "108 nan\n",
      "118 nan\n"
     ]
    }
   ],
   "source": [
    "print(\"The rate of churn at various price points for multiple lines:\")\n",
    "for x in range(18, 119, 10):\n",
    "    print(x, train1 [(train1.multiple_lines == \"Yes\") & \n",
    "                     (train1.monthly_charges >= x) & (train1.monthly_charges < x+10) ].churn.mean())\n",
    "print()\n",
    "print(\"The rate of churn at various price points for one line:\")\n",
    "for x in range(18, 119, 10):\n",
    "    print(x, train1 [(train1.multiple_lines == \"No\") & \n",
    "                     (train1.monthly_charges >= x) & (train1.monthly_charges < x+10) ].churn.mean())\n",
    "print()\n",
    "print(\"The rate of churn at various price points for device protection:\")\n",
    "for x in range(18, 119, 10):\n",
    "    print(x, train1 [(train1.device_protection == \"Yes\") & \n",
    "                     (train1.monthly_charges >= x) & (train1.monthly_charges < x+10) ].churn.mean())\n",
    "print()\n",
    "print(\"The rate of churn at various price points for tech support:\")\n",
    "for x in range(18, 119, 10):\n",
    "    print(x, train1 [(train1.tech_support == \"Yes\") & \n",
    "                     (train1.monthly_charges >= x) & (train1.monthly_charges < x+10) ].churn.mean())\n",
    "print()\n",
    "print(\"The rate of churn at various price points for dsl:\")\n",
    "for x in range(18, 119, 10):\n",
    "    print(x, train1 [(train1.internet_service_type == \"DSL\") & \n",
    "                     (train1.monthly_charges >= x) & (train1.monthly_charges < x+10) ].churn.mean())    \n",
    "print()\n",
    "print(\"The rate of churn at various price points for fiber optic:\")\n",
    "for x in range(18, 119, 10):\n",
    "    print(x, train1 [(train1.internet_service_type == \"Fiber optic\") & \n",
    "                     (train1.monthly_charges >= x) & (train1.monthly_charges < x+10) ].churn.mean())\n",
    "print()\n",
    "print(\"The rate of churn at various price points for security:\")\n",
    "for x in range(18, 119, 10):\n",
    "    print(x, train1 [(train1.online_additions == \"Security\") & \n",
    "                     (train1.monthly_charges >= x) & (train1.monthly_charges < x+10) ].churn.mean())\n",
    "print()\n",
    "print(\"The rate of churn at various price points for backup:\")\n",
    "for x in range(18, 119, 10):\n",
    "    print(x, train1 [(train1.online_additions == \"Backup\") & \n",
    "                     (train1.monthly_charges >= x) & (train1.monthly_charges < x+10) ].churn.mean())\n",
    "print()\n",
    "print(\"The rate of churn at various price points for security and backup:\")\n",
    "for x in range(18, 119, 10):\n",
    "    print(x, train1 [(train1.online_additions == \"Both\") & \n",
    "                     (train1.monthly_charges >= x) & (train1.monthly_charges < x+10) ].churn.mean())\n",
    "print()\n",
    "print(\"The rate of churn at various price points for two streams:\")\n",
    "for x in range(18, 119, 10):\n",
    "    print(x, train1 [(train1.streaming == \"Two streams\") & \n",
    "                     (train1.monthly_charges >= x) & (train1.monthly_charges < x+10) ].churn.mean())\n",
    "print()\n",
    "print(\"The rate of churn at various price points for one stream:\")\n",
    "for x in range(18, 119, 10):\n",
    "    print(x, train1 [(train1.streaming == \"One stream\") & \n",
    "                     (train1.monthly_charges >= x) & (train1.monthly_charges < x+10) ].churn.mean())"
   ]
  },
  {
   "cell_type": "markdown",
   "metadata": {},
   "source": [
    "- multiple lines: churn jumps from .13 to .33 between 58 and 68 dollars\n",
    "- one line: churn jumps from from .08 to .40 between 58 and 68 dollars\n",
    "\n",
    "- device protection: churn jumps from .24 to .36 between 88 and 98 dollars\n",
    "- tech support: churn jumps from .14 to .28 between 88 and 98 dollars\n",
    "\n",
    "- dsl: no increase in churn\n",
    "- fiber optic: no increase in churn\n",
    "\n",
    "- security: churn jumps from .16 to .28 between 78 and 88 dollars\n",
    "- security and backup: churn jumps from .10 to .17 between 88 and 98 dollars\n",
    "\n",
    "- two streams: churn jumps from 0.03 to .42 between 78 and 88 dollars\n",
    "- one stream: churn jumps from .05 to .56 between 68 and 78 dollars\n"
   ]
  },
  {
   "cell_type": "markdown",
   "metadata": {},
   "source": [
    "Q4. If we looked at churn rate for month-to-month customers after the 12th month and that of 1-year contract customers after the 12th month, are those rates comparable?"
   ]
  },
  {
   "cell_type": "code",
   "execution_count": 70,
   "metadata": {},
   "outputs": [
    {
     "name": "stdout",
     "output_type": "stream",
     "text": [
      "The churn rate after 12 months for a month-to-month contract:\n",
      "0.33\n",
      "The churn rate after 12 months for a one-year contract:\n",
      "0.11\n"
     ]
    }
   ],
   "source": [
    "print('The churn rate after 12 months for a month-to-month contract:')\n",
    "print(f'{train1 [(train1.tenure > 12) & (train1.contract_type == \"Month-to-month\")].churn.mean():.2}')\n",
    "print('The churn rate after 12 months for a one-year contract:')\n",
    "print(f'{train1 [(train1.tenure > 12) & (train1.contract_type == \"One year\")].churn.mean():.2}')"
   ]
  },
  {
   "cell_type": "markdown",
   "metadata": {},
   "source": [
    ">The churn rate for month-to-month is still much higher than a one-year contract. Therefore, we must incentivize people to get into contracts"
   ]
  },
  {
   "cell_type": "markdown",
   "metadata": {},
   "source": [
    "Q5. Controlling for services (phone_id, internet_service_type_id, online_security_backup, device_protection, tech_support, and contract_type_id), is the mean monthly_charges of those who have churned significantly different from that of those who have not churned? (Use a t-test to answer this.)"
   ]
  },
  {
   "cell_type": "markdown",
   "metadata": {},
   "source": [
    "H0: the mean of monthly charges of churned folks is independent of the mean of monthly charges of not churned folks"
   ]
  },
  {
   "cell_type": "markdown",
   "metadata": {},
   "source": [
    "##### Controlling for phone lines"
   ]
  },
  {
   "cell_type": "code",
   "execution_count": 71,
   "metadata": {},
   "outputs": [
    {
     "data": {
      "text/plain": [
       "Ttest_indResult(statistic=-13.972136582588629, pvalue=6.651038271664591e-43)"
      ]
     },
     "execution_count": 71,
     "metadata": {},
     "output_type": "execute_result"
    }
   ],
   "source": [
    "stats.ttest_ind((train1[(train1.churn == 0) & (train1.multiple_lines == \"No\")]).monthly_charges, \n",
    "                (train1[(train1.churn == 1) & (train1.multiple_lines == \"No\")]).monthly_charges)"
   ]
  },
  {
   "cell_type": "code",
   "execution_count": 72,
   "metadata": {},
   "outputs": [
    {
     "data": {
      "text/plain": [
       "Ttest_indResult(statistic=-8.635977256932215, pvalue=1.0591234393120786e-17)"
      ]
     },
     "execution_count": 72,
     "metadata": {},
     "output_type": "execute_result"
    }
   ],
   "source": [
    "stats.ttest_ind((train1[(train1.churn == 0) & (train1.multiple_lines == \"Yes\")]).monthly_charges, \n",
    "                (train1[(train1.churn == 1) & (train1.multiple_lines == \"Yes\")]).monthly_charges)"
   ]
  },
  {
   "cell_type": "code",
   "execution_count": 73,
   "metadata": {},
   "outputs": [
    {
     "data": {
      "text/plain": [
       "Ttest_indResult(statistic=5.408035887236937, pvalue=9.529802114323164e-08)"
      ]
     },
     "execution_count": 73,
     "metadata": {},
     "output_type": "execute_result"
    }
   ],
   "source": [
    "stats.ttest_ind((train1[(train1.churn == 0) & (train1.multiple_lines == \"No phone service\")]).monthly_charges, \n",
    "                (train1[(train1.churn == 1) & (train1.multiple_lines == \"No phone service\")]).monthly_charges)"
   ]
  },
  {
   "cell_type": "markdown",
   "metadata": {},
   "source": [
    "##### Controlling for internet service type"
   ]
  },
  {
   "cell_type": "code",
   "execution_count": 74,
   "metadata": {},
   "outputs": [
    {
     "data": {
      "text/plain": [
       "Ttest_indResult(statistic=11.174526538312383, pvalue=2.574999761370781e-28)"
      ]
     },
     "execution_count": 74,
     "metadata": {},
     "output_type": "execute_result"
    }
   ],
   "source": [
    "stats.ttest_ind((train1[(train1.churn == 0) & (train1.internet_service_type == \"Fiber optic\")]).monthly_charges, \n",
    "                (train1[(train1.churn == 1) & (train1.internet_service_type == \"Fiber optic\")]).monthly_charges)"
   ]
  },
  {
   "cell_type": "code",
   "execution_count": 75,
   "metadata": {},
   "outputs": [
    {
     "data": {
      "text/plain": [
       "Ttest_indResult(statistic=12.052013907764021, pvalue=2.66408097721226e-32)"
      ]
     },
     "execution_count": 75,
     "metadata": {},
     "output_type": "execute_result"
    }
   ],
   "source": [
    "stats.ttest_ind((train1[(train1.churn == 0) & (train1.internet_service_type == \"DSL\")]).monthly_charges, \n",
    "                (train1[(train1.churn == 1) & (train1.internet_service_type == \"DSL\")]).monthly_charges)"
   ]
  },
  {
   "cell_type": "code",
   "execution_count": 76,
   "metadata": {},
   "outputs": [
    {
     "data": {
      "text/plain": [
       "Ttest_indResult(statistic=3.6984136648525956, pvalue=0.00022651775662081426)"
      ]
     },
     "execution_count": 76,
     "metadata": {},
     "output_type": "execute_result"
    }
   ],
   "source": [
    "stats.ttest_ind((train1[(train1.churn == 0) & (train1.internet_service_type == \"None\")]).monthly_charges, \n",
    "                (train1[(train1.churn == 1) & (train1.internet_service_type == \"None\")]).monthly_charges)"
   ]
  },
  {
   "cell_type": "markdown",
   "metadata": {},
   "source": [
    "##### Controlling for device protection"
   ]
  },
  {
   "cell_type": "code",
   "execution_count": 77,
   "metadata": {},
   "outputs": [
    {
     "data": {
      "text/plain": [
       "Ttest_indResult(statistic=-5.203548558393126, pvalue=2.1162693021810633e-07)"
      ]
     },
     "execution_count": 77,
     "metadata": {},
     "output_type": "execute_result"
    }
   ],
   "source": [
    "stats.ttest_ind((train1[(train1.churn == 0) & (train1.device_protection == \"No\")]).monthly_charges, \n",
    "                (train1[(train1.churn == 1) & (train1.device_protection == \"No\")]).monthly_charges)"
   ]
  },
  {
   "cell_type": "code",
   "execution_count": 78,
   "metadata": {},
   "outputs": [
    {
     "data": {
      "text/plain": [
       "Ttest_indResult(statistic=-4.502526963881925, pvalue=7.1174943361883274e-06)"
      ]
     },
     "execution_count": 78,
     "metadata": {},
     "output_type": "execute_result"
    }
   ],
   "source": [
    "stats.ttest_ind((train1[(train1.churn == 0) & (train1.device_protection == \"Yes\")]).monthly_charges, \n",
    "                (train1[(train1.churn == 1) & (train1.device_protection == \"Yes\")]).monthly_charges)"
   ]
  },
  {
   "cell_type": "markdown",
   "metadata": {},
   "source": [
    "##### Controlling for tech support"
   ]
  },
  {
   "cell_type": "code",
   "execution_count": 79,
   "metadata": {},
   "outputs": [
    {
     "data": {
      "text/plain": [
       "Ttest_indResult(statistic=-3.890880425709156, pvalue=0.00010221970524963865)"
      ]
     },
     "execution_count": 79,
     "metadata": {},
     "output_type": "execute_result"
    }
   ],
   "source": [
    "stats.ttest_ind((train1[(train1.churn == 0) & (train1.tech_support == \"No\")]).monthly_charges, \n",
    "                (train1[(train1.churn == 1) & (train1.tech_support == \"No\")]).monthly_charges)"
   ]
  },
  {
   "cell_type": "code",
   "execution_count": 80,
   "metadata": {},
   "outputs": [
    {
     "data": {
      "text/plain": [
       "Ttest_indResult(statistic=-3.8505938021166846, pvalue=0.0001224665330645207)"
      ]
     },
     "execution_count": 80,
     "metadata": {},
     "output_type": "execute_result"
    }
   ],
   "source": [
    "stats.ttest_ind((train1[(train1.churn == 0) & (train1.tech_support == \"Yes\")]).monthly_charges, \n",
    "                (train1[(train1.churn == 1) & (train1.tech_support == \"Yes\")]).monthly_charges)"
   ]
  },
  {
   "cell_type": "markdown",
   "metadata": {},
   "source": [
    "##### Controlling for contract type"
   ]
  },
  {
   "cell_type": "code",
   "execution_count": 81,
   "metadata": {},
   "outputs": [
    {
     "data": {
      "text/plain": [
       "Ttest_indResult(statistic=-12.03418445027, pvalue=1.2514015909350454e-32)"
      ]
     },
     "execution_count": 81,
     "metadata": {},
     "output_type": "execute_result"
    }
   ],
   "source": [
    "stats.ttest_ind((train1[(train1.churn == 0) & (train1.contract_type == \"Month-to-month\")]).monthly_charges, \n",
    "                (train1[(train1.churn == 1) & (train1.contract_type == \"Month-to-month\")]).monthly_charges)"
   ]
  },
  {
   "cell_type": "code",
   "execution_count": 82,
   "metadata": {},
   "outputs": [
    {
     "data": {
      "text/plain": [
       "Ttest_indResult(statistic=-4.857902812293882, pvalue=1.324611369409835e-06)"
      ]
     },
     "execution_count": 82,
     "metadata": {},
     "output_type": "execute_result"
    }
   ],
   "source": [
    "stats.ttest_ind((train1[(train1.churn == 0) & (train1.contract_type == \"Two year\")]).monthly_charges, \n",
    "                (train1[(train1.churn == 1) & (train1.contract_type == \"Two year\")]).monthly_charges)"
   ]
  },
  {
   "cell_type": "code",
   "execution_count": 83,
   "metadata": {},
   "outputs": [
    {
     "data": {
      "text/plain": [
       "Ttest_indResult(statistic=-7.647280529096196, pvalue=4.2304015033662194e-14)"
      ]
     },
     "execution_count": 83,
     "metadata": {},
     "output_type": "execute_result"
    }
   ],
   "source": [
    "stats.ttest_ind((train1[(train1.churn == 0) & (train1.contract_type == \"One year\")]).monthly_charges, \n",
    "                (train1[(train1.churn == 1) & (train1.contract_type == \"One year\")]).monthly_charges)"
   ]
  },
  {
   "cell_type": "markdown",
   "metadata": {},
   "source": [
    "> The p-values are all basically zero, therefore, the null hypothesis is rejected"
   ]
  },
  {
   "cell_type": "markdown",
   "metadata": {},
   "source": [
    "Q6. How much of monthly_charges can be explained by internet_service_type? (hint: correlation test). State your hypotheses and your conclusion clearly."
   ]
  },
  {
   "cell_type": "markdown",
   "metadata": {},
   "source": [
    "H0: monthly_charges are independent of internet_service_type"
   ]
  },
  {
   "cell_type": "code",
   "execution_count": 84,
   "metadata": {},
   "outputs": [
    {
     "name": "stdout",
     "output_type": "stream",
     "text": [
      "Observed\n",
      "[[0 0 1]\n",
      " [0 0 1]\n",
      " [0 0 2]\n",
      " ...\n",
      " [0 2 0]\n",
      " [0 1 0]\n",
      " [0 1 0]]\n",
      "\n",
      "Expected\n",
      "[[0.34275556 0.43822222 0.21902222]\n",
      " [0.34275556 0.43822222 0.21902222]\n",
      " [0.68551111 0.87644444 0.43804444]\n",
      " ...\n",
      " [0.68551111 0.87644444 0.43804444]\n",
      " [0.34275556 0.43822222 0.21902222]\n",
      " [0.34275556 0.43822222 0.21902222]]\n",
      "\n",
      "chi^2 = 9502.6892\n",
      "p     = 0.0000\n"
     ]
    }
   ],
   "source": [
    "observed = pd.crosstab(train1.monthly_charges,train1.internet_service_type)\n",
    "chi2, p, degf, expected = stats.chi2_contingency(observed)\n",
    "\n",
    "print('Observed')\n",
    "print(observed.values)\n",
    "print('\\nExpected')\n",
    "print(expected)\n",
    "print('')\n",
    "print(f'chi^2 = {chi2:.4f}')\n",
    "print(f'p     = {p:.4f}')"
   ]
  },
  {
   "cell_type": "markdown",
   "metadata": {},
   "source": [
    "> The p-value is zero, therefore, we reject the null hypothesis that monthly charges and internet service type are independent"
   ]
  },
  {
   "cell_type": "code",
   "execution_count": 85,
   "metadata": {},
   "outputs": [
    {
     "data": {
      "image/png": "[encoded data removed]",
      "text/plain": [
       "<Figure size 432x288 with 1 Axes>"
      ]
     },
     "metadata": {
      "needs_background": "light"
     },
     "output_type": "display_data"
    }
   ],
   "source": [
    "sns.scatterplot(x=\"internet_service_type\", y=\"monthly_charges\", data=train1, alpha=.3)\n",
    "plt.show()"
   ]
  },
  {
   "cell_type": "markdown",
   "metadata": {},
   "source": [
    "> There appears to be a high correlation between monthly charges and internet service type. Do these features need to be combined? Drop service type?"
   ]
  },
  {
   "cell_type": "markdown",
   "metadata": {},
   "source": [
    "Q7. How much of monthly_charges can be explained by internet_service_type + phone service type (0, 1, or multiple lines). State your hypotheses and your conclusion clearly."
   ]
  },
  {
   "cell_type": "markdown",
   "metadata": {},
   "source": [
    "H0: monthly charges are independent of internet service type and phone serive type"
   ]
  },
  {
   "cell_type": "code",
   "execution_count": 86,
   "metadata": {},
   "outputs": [
    {
     "data": {
      "text/html": [
       "<div>\n",
       "<style scoped>\n",
       "    .dataframe tbody tr th:only-of-type {\n",
       "        vertical-align: middle;\n",
       "    }\n",
       "\n",
       "    .dataframe tbody tr th {\n",
       "        vertical-align: top;\n",
       "    }\n",
       "\n",
       "    .dataframe thead th {\n",
       "        text-align: right;\n",
       "    }\n",
       "</style>\n",
       "<table border=\"1\" class=\"dataframe\">\n",
       "  <thead>\n",
       "    <tr style=\"text-align: right;\">\n",
       "      <th>multiple_lines</th>\n",
       "      <th>No</th>\n",
       "      <th>No phone service</th>\n",
       "      <th>Yes</th>\n",
       "    </tr>\n",
       "    <tr>\n",
       "      <th>internet_service_type</th>\n",
       "      <th></th>\n",
       "      <th></th>\n",
       "      <th></th>\n",
       "    </tr>\n",
       "  </thead>\n",
       "  <tbody>\n",
       "    <tr>\n",
       "      <th>DSL</th>\n",
       "      <td>846</td>\n",
       "      <td>550</td>\n",
       "      <td>532</td>\n",
       "    </tr>\n",
       "    <tr>\n",
       "      <th>Fiber optic</th>\n",
       "      <td>924</td>\n",
       "      <td>0</td>\n",
       "      <td>1541</td>\n",
       "    </tr>\n",
       "    <tr>\n",
       "      <th>None</th>\n",
       "      <td>966</td>\n",
       "      <td>0</td>\n",
       "      <td>266</td>\n",
       "    </tr>\n",
       "  </tbody>\n",
       "</table>\n",
       "</div>"
      ],
      "text/plain": [
       "multiple_lines          No  No phone service   Yes\n",
       "internet_service_type                             \n",
       "DSL                    846               550   532\n",
       "Fiber optic            924                 0  1541\n",
       "None                   966                 0   266"
      ]
     },
     "execution_count": 86,
     "metadata": {},
     "output_type": "execute_result"
    }
   ],
   "source": [
    "pd.crosstab(train1.internet_service_type, train1.multiple_lines)"
   ]
  },
  {
   "cell_type": "markdown",
   "metadata": {},
   "source": [
    "> wut. >:("
   ]
  },
  {
   "cell_type": "markdown",
   "metadata": {},
   "source": [
    "Q8. Create visualizations exploring the interactions of variables (independent with independent and independent with dependent). The goal is to identify features that are related to churn, identify any data integrity issues, understand 'how the data works'. For example, we may find that all who have online services also have device protection. In that case, we don't need both of those. (The visualizations done in your analysis for questions 1-5 count towards the requirements below)"
   ]
  },
  {
   "cell_type": "code",
   "execution_count": 87,
   "metadata": {},
   "outputs": [
    {
     "data": {
      "image/png": "[encoded data removed]",
      "text/plain": [
       "<Figure size 432x288 with 2 Axes>"
      ]
     },
     "metadata": {
      "needs_background": "light"
     },
     "output_type": "display_data"
    }
   ],
   "source": [
    "#show the correlation of continuous features\n",
    "sns.heatmap(train1.corr(), cmap='Blues', annot=True)\n",
    "plt.show()"
   ]
  },
  {
   "cell_type": "markdown",
   "metadata": {},
   "source": [
    "Q9. What can you say about each variable's relationship to churn, based on your initial exploration? If there appears to be some sort of interaction or correlation, assume there is no causal relationship and brainstorm (and document) ideas on reasons there could be correlation"
   ]
  },
  {
   "cell_type": "markdown",
   "metadata": {},
   "source": [
    "- Tenure: People churn at higher rates in the earlier months. This could be due to being pulled in at a promotional rate for a month or so, and then they leave after the promotion is over.  \n",
    "- Payment_type: Electronic checks overwhelming have the highest churn rate. Mailed checks have a the second highest, but drops to about half of that rate. Both automatic payments have lower churn rates, as it's easier to pay something when you don't have to think about it. \n",
    "- Phone lines: There doesn't appear to be correlation between the number of phone lines and churn.\n",
    "- Online_additions: People with no online additions are more likely to churn. People could be finding the online benefits with other companies at a cheaper price. Or people could feel much more secure in their browsing with the addition of security and backup and therefore are more likely to stay.\n",
    "- Senior citizen: Senior citizens churn at a higher rate. It could be due to them having higher monthly charges, or just them not interested in being as connected as the younger generation, and finds a more basic company. \n",
    "- Streaming services: If a customer has internet, there appears to be no correlation between streaming services and churn. \n",
    "- Household: Single people are churning at higher rates than people with partners or kids. It appears single people and people with families have about the same monthly rate. Perhaps the price per person is too high for just one person, and the package deals are more affordable. "
   ]
  },
  {
   "cell_type": "markdown",
   "metadata": {},
   "source": [
    "Q10. Summarize your conclusions, provide clear answers to the specific questions, and summarize any takeaways/action plan from the work above."
   ]
  },
  {
   "cell_type": "markdown",
   "metadata": {},
   "source": [
    "- Fields to include: senior_citizen, tenure, payment_type, online_additions, monthly_charges\n",
    "- Fields to drop: multiple_lines, streaming, household, internet_service_type\n",
    "- Fields ignored: customer_id, gender, device_protection, tech_support, paperless_billing\n",
    "- Fields to consider: total_charges\n",
    "- Target: churn"
   ]
  },
  {
   "cell_type": "code",
   "execution_count": 379,
   "metadata": {},
   "outputs": [],
   "source": [
    "features = [\"senior_citizen\",\"tenure\", \"payment_type\", \"online_additions\", \"monthly_charges\",\"total_charges\"]\n",
    "# features = [\"senior_citizen\",\"tenure\", \"payment_type\", \"online_additions\", \"monthly_charges\"]\n",
    "# features = [\"tenure\", \"payment_type\", \"online_additions\", \"monthly_charges\"]"
   ]
  },
  {
   "cell_type": "markdown",
   "metadata": {},
   "source": [
    "### Prepare - MVP "
   ]
  },
  {
   "cell_type": "code",
   "execution_count": 380,
   "metadata": {},
   "outputs": [
    {
     "name": "stdout",
     "output_type": "stream",
     "text": [
      "<class 'pandas.core.frame.DataFrame'>\n",
      "Int64Index: 5625 entries, 5474 to 3582\n",
      "Data columns (total 17 columns):\n",
      "customer_id              5625 non-null object\n",
      "gender                   5625 non-null object\n",
      "senior_citizen           5625 non-null int64\n",
      "tenure                   5625 non-null int64\n",
      "multiple_lines           5625 non-null object\n",
      "device_protection        5625 non-null object\n",
      "tech_support             5625 non-null object\n",
      "paperless_billing        5625 non-null object\n",
      "monthly_charges          5625 non-null float64\n",
      "total_charges            5625 non-null float64\n",
      "churn                    5625 non-null int64\n",
      "internet_service_type    5625 non-null object\n",
      "contract_type            5625 non-null object\n",
      "payment_type             5625 non-null object\n",
      "online_additions         5625 non-null object\n",
      "streaming                5625 non-null object\n",
      "household                5625 non-null object\n",
      "dtypes: float64(2), int64(3), object(12)\n",
      "memory usage: 951.0+ KB\n"
     ]
    }
   ],
   "source": [
    "train1.info()"
   ]
  },
  {
   "cell_type": "code",
   "execution_count": 381,
   "metadata": {},
   "outputs": [],
   "source": [
    "# split into X and y dataframes\n",
    "X_train1 = train1.drop(columns = \"churn\")\n",
    "X_test1 = test1.drop(columns = \"churn\")\n",
    "y_train1 = train1[[\"churn\"]]\n",
    "y_test1 = test1[[\"churn\"]]"
   ]
  },
  {
   "cell_type": "code",
   "execution_count": 382,
   "metadata": {},
   "outputs": [
    {
     "data": {
      "text/html": [
       "<div>\n",
       "<style scoped>\n",
       "    .dataframe tbody tr th:only-of-type {\n",
       "        vertical-align: middle;\n",
       "    }\n",
       "\n",
       "    .dataframe tbody tr th {\n",
       "        vertical-align: top;\n",
       "    }\n",
       "\n",
       "    .dataframe thead th {\n",
       "        text-align: right;\n",
       "    }\n",
       "</style>\n",
       "<table border=\"1\" class=\"dataframe\">\n",
       "  <thead>\n",
       "    <tr style=\"text-align: right;\">\n",
       "      <th></th>\n",
       "      <th>senior_citizen</th>\n",
       "      <th>tenure</th>\n",
       "      <th>payment_type</th>\n",
       "      <th>online_additions</th>\n",
       "      <th>monthly_charges</th>\n",
       "      <th>total_charges</th>\n",
       "    </tr>\n",
       "  </thead>\n",
       "  <tbody>\n",
       "    <tr>\n",
       "      <th>5474</th>\n",
       "      <td>0</td>\n",
       "      <td>72</td>\n",
       "      <td>Credit card (automatic)</td>\n",
       "      <td>Security</td>\n",
       "      <td>85.90</td>\n",
       "      <td>6110.75</td>\n",
       "    </tr>\n",
       "    <tr>\n",
       "      <th>5426</th>\n",
       "      <td>0</td>\n",
       "      <td>62</td>\n",
       "      <td>Mailed check</td>\n",
       "      <td>Security</td>\n",
       "      <td>65.10</td>\n",
       "      <td>3846.75</td>\n",
       "    </tr>\n",
       "    <tr>\n",
       "      <th>3563</th>\n",
       "      <td>0</td>\n",
       "      <td>1</td>\n",
       "      <td>Electronic check</td>\n",
       "      <td>No internet</td>\n",
       "      <td>20.00</td>\n",
       "      <td>20.00</td>\n",
       "    </tr>\n",
       "    <tr>\n",
       "      <th>2096</th>\n",
       "      <td>0</td>\n",
       "      <td>33</td>\n",
       "      <td>Bank transfer (automatic)</td>\n",
       "      <td>None</td>\n",
       "      <td>70.40</td>\n",
       "      <td>2406.10</td>\n",
       "    </tr>\n",
       "    <tr>\n",
       "      <th>7019</th>\n",
       "      <td>0</td>\n",
       "      <td>56</td>\n",
       "      <td>Mailed check</td>\n",
       "      <td>No internet</td>\n",
       "      <td>24.45</td>\n",
       "      <td>1385.85</td>\n",
       "    </tr>\n",
       "  </tbody>\n",
       "</table>\n",
       "</div>"
      ],
      "text/plain": [
       "      senior_citizen  tenure               payment_type online_additions  \\\n",
       "5474               0      72    Credit card (automatic)         Security   \n",
       "5426               0      62               Mailed check         Security   \n",
       "3563               0       1           Electronic check      No internet   \n",
       "2096               0      33  Bank transfer (automatic)             None   \n",
       "7019               0      56               Mailed check      No internet   \n",
       "\n",
       "      monthly_charges  total_charges  \n",
       "5474            85.90        6110.75  \n",
       "5426            65.10        3846.75  \n",
       "3563            20.00          20.00  \n",
       "2096            70.40        2406.10  \n",
       "7019            24.45        1385.85  "
      ]
     },
     "execution_count": 382,
     "metadata": {},
     "output_type": "execute_result"
    }
   ],
   "source": [
    "# apply selected features\n",
    "X_train1 = X_train1[features]\n",
    "X_test1 = X_test1[features]\n",
    "X_train1.head()"
   ]
  },
  {
   "cell_type": "code",
   "execution_count": 383,
   "metadata": {},
   "outputs": [],
   "source": [
    "# one hot encode category data so it can be run in models\n",
    "X_train1, X_test1 = prep.encode_hot(X_train1, X_test1, col_name = 'payment_type')\n",
    "X_train1, X_test1 = prep.encode_hot(X_train1, X_test1, col_name = 'online_additions')"
   ]
  },
  {
   "cell_type": "code",
   "execution_count": 384,
   "metadata": {},
   "outputs": [],
   "source": [
    "# remove old categories\n",
    "X_train1.drop(columns=[\"payment_type\",\"online_additions\"], inplace=True)\n",
    "X_test1.drop(columns=[\"payment_type\",\"online_additions\"], inplace=True)"
   ]
  },
  {
   "cell_type": "code",
   "execution_count": 385,
   "metadata": {},
   "outputs": [
    {
     "data": {
      "text/html": [
       "<div>\n",
       "<style scoped>\n",
       "    .dataframe tbody tr th:only-of-type {\n",
       "        vertical-align: middle;\n",
       "    }\n",
       "\n",
       "    .dataframe tbody tr th {\n",
       "        vertical-align: top;\n",
       "    }\n",
       "\n",
       "    .dataframe thead th {\n",
       "        text-align: right;\n",
       "    }\n",
       "</style>\n",
       "<table border=\"1\" class=\"dataframe\">\n",
       "  <thead>\n",
       "    <tr style=\"text-align: right;\">\n",
       "      <th></th>\n",
       "      <th>senior_citizen</th>\n",
       "      <th>tenure</th>\n",
       "      <th>monthly_charges</th>\n",
       "      <th>total_charges</th>\n",
       "      <th>Bank transfer (automatic)</th>\n",
       "      <th>Credit card (automatic)</th>\n",
       "      <th>Electronic check</th>\n",
       "      <th>Mailed check</th>\n",
       "      <th>Backup</th>\n",
       "      <th>Both</th>\n",
       "      <th>No internet</th>\n",
       "      <th>None</th>\n",
       "      <th>Security</th>\n",
       "    </tr>\n",
       "  </thead>\n",
       "  <tbody>\n",
       "    <tr>\n",
       "      <th>5474</th>\n",
       "      <td>0</td>\n",
       "      <td>72</td>\n",
       "      <td>85.90</td>\n",
       "      <td>6110.75</td>\n",
       "      <td>0.0</td>\n",
       "      <td>1.0</td>\n",
       "      <td>0.0</td>\n",
       "      <td>0.0</td>\n",
       "      <td>0.0</td>\n",
       "      <td>0.0</td>\n",
       "      <td>0.0</td>\n",
       "      <td>0.0</td>\n",
       "      <td>1.0</td>\n",
       "    </tr>\n",
       "    <tr>\n",
       "      <th>5426</th>\n",
       "      <td>0</td>\n",
       "      <td>62</td>\n",
       "      <td>65.10</td>\n",
       "      <td>3846.75</td>\n",
       "      <td>0.0</td>\n",
       "      <td>0.0</td>\n",
       "      <td>0.0</td>\n",
       "      <td>1.0</td>\n",
       "      <td>0.0</td>\n",
       "      <td>0.0</td>\n",
       "      <td>0.0</td>\n",
       "      <td>0.0</td>\n",
       "      <td>1.0</td>\n",
       "    </tr>\n",
       "    <tr>\n",
       "      <th>3563</th>\n",
       "      <td>0</td>\n",
       "      <td>1</td>\n",
       "      <td>20.00</td>\n",
       "      <td>20.00</td>\n",
       "      <td>0.0</td>\n",
       "      <td>0.0</td>\n",
       "      <td>1.0</td>\n",
       "      <td>0.0</td>\n",
       "      <td>0.0</td>\n",
       "      <td>0.0</td>\n",
       "      <td>1.0</td>\n",
       "      <td>0.0</td>\n",
       "      <td>0.0</td>\n",
       "    </tr>\n",
       "    <tr>\n",
       "      <th>2096</th>\n",
       "      <td>0</td>\n",
       "      <td>33</td>\n",
       "      <td>70.40</td>\n",
       "      <td>2406.10</td>\n",
       "      <td>1.0</td>\n",
       "      <td>0.0</td>\n",
       "      <td>0.0</td>\n",
       "      <td>0.0</td>\n",
       "      <td>0.0</td>\n",
       "      <td>0.0</td>\n",
       "      <td>0.0</td>\n",
       "      <td>1.0</td>\n",
       "      <td>0.0</td>\n",
       "    </tr>\n",
       "    <tr>\n",
       "      <th>7019</th>\n",
       "      <td>0</td>\n",
       "      <td>56</td>\n",
       "      <td>24.45</td>\n",
       "      <td>1385.85</td>\n",
       "      <td>0.0</td>\n",
       "      <td>0.0</td>\n",
       "      <td>0.0</td>\n",
       "      <td>1.0</td>\n",
       "      <td>0.0</td>\n",
       "      <td>0.0</td>\n",
       "      <td>1.0</td>\n",
       "      <td>0.0</td>\n",
       "      <td>0.0</td>\n",
       "    </tr>\n",
       "  </tbody>\n",
       "</table>\n",
       "</div>"
      ],
      "text/plain": [
       "      senior_citizen  tenure  monthly_charges  total_charges  \\\n",
       "5474               0      72            85.90        6110.75   \n",
       "5426               0      62            65.10        3846.75   \n",
       "3563               0       1            20.00          20.00   \n",
       "2096               0      33            70.40        2406.10   \n",
       "7019               0      56            24.45        1385.85   \n",
       "\n",
       "      Bank transfer (automatic)  Credit card (automatic)  Electronic check  \\\n",
       "5474                        0.0                      1.0               0.0   \n",
       "5426                        0.0                      0.0               0.0   \n",
       "3563                        0.0                      0.0               1.0   \n",
       "2096                        1.0                      0.0               0.0   \n",
       "7019                        0.0                      0.0               0.0   \n",
       "\n",
       "      Mailed check  Backup  Both  No internet  None  Security  \n",
       "5474           0.0     0.0   0.0          0.0   0.0       1.0  \n",
       "5426           1.0     0.0   0.0          0.0   0.0       1.0  \n",
       "3563           0.0     0.0   0.0          1.0   0.0       0.0  \n",
       "2096           0.0     0.0   0.0          0.0   1.0       0.0  \n",
       "7019           1.0     0.0   0.0          1.0   0.0       0.0  "
      ]
     },
     "execution_count": 385,
     "metadata": {},
     "output_type": "execute_result"
    }
   ],
   "source": [
    "X_train1.head()"
   ]
  },
  {
   "cell_type": "markdown",
   "metadata": {},
   "source": [
    "### Model - MVP - decision tree"
   ]
  },
  {
   "cell_type": "code",
   "execution_count": 386,
   "metadata": {},
   "outputs": [
    {
     "data": {
      "text/plain": [
       "DecisionTreeClassifier(class_weight=None, criterion='gini', max_depth=3,\n",
       "                       max_features=None, max_leaf_nodes=None,\n",
       "                       min_impurity_decrease=0.0, min_impurity_split=None,\n",
       "                       min_samples_leaf=1, min_samples_split=2,\n",
       "                       min_weight_fraction_leaf=0.0, presort=False,\n",
       "                       random_state=123, splitter='best')"
      ]
     },
     "execution_count": 386,
     "metadata": {},
     "output_type": "execute_result"
    }
   ],
   "source": [
    "    # run decision tree!\n",
    "    clf = DecisionTreeClassifier(max_depth=3, random_state=123)\n",
    "    clf.fit(X_train1, y_train1)"
   ]
  },
  {
   "cell_type": "code",
   "execution_count": 387,
   "metadata": {},
   "outputs": [],
   "source": [
    "    y_pred = clf.predict(X_train1)\n",
    "    y_pred_proba = clf.predict_proba(X_train1)"
   ]
  },
  {
   "cell_type": "markdown",
   "metadata": {},
   "source": [
    "### Evaluate - MVP - decision tree"
   ]
  },
  {
   "cell_type": "code",
   "execution_count": 388,
   "metadata": {},
   "outputs": [
    {
     "name": "stdout",
     "output_type": "stream",
     "text": [
      "Accuracy of decision tree classifier on training set: 0.79\n",
      "\n",
      "confusion matrix\n",
      "[[3838  312]\n",
      " [ 883  592]]\n",
      "\n",
      "              precision    recall  f1-score   support\n",
      "\n",
      "           0       0.81      0.92      0.87      4150\n",
      "           1       0.65      0.40      0.50      1475\n",
      "\n",
      "    accuracy                           0.79      5625\n",
      "   macro avg       0.73      0.66      0.68      5625\n",
      "weighted avg       0.77      0.79      0.77      5625\n",
      "\n"
     ]
    }
   ],
   "source": [
    "print('Accuracy of decision tree classifier on training set: {:.2f}'\n",
    "     .format(clf.score(X_train1, y_train1)))\n",
    "print()\n",
    "print(\"confusion matrix\")\n",
    "print(confusion_matrix(y_train1, y_pred))\n",
    "print()\n",
    "print(classification_report(y_train1, y_pred))"
   ]
  },
  {
   "cell_type": "markdown",
   "metadata": {},
   "source": [
    "### Model - MVP - random forest "
   ]
  },
  {
   "cell_type": "code",
   "execution_count": 389,
   "metadata": {},
   "outputs": [
    {
     "data": {
      "text/plain": [
       "RandomForestClassifier(bootstrap=True, class_weight=None, criterion='gini',\n",
       "                       max_depth=3, max_features='auto', max_leaf_nodes=None,\n",
       "                       min_impurity_decrease=0.0, min_impurity_split=None,\n",
       "                       min_samples_leaf=3, min_samples_split=2,\n",
       "                       min_weight_fraction_leaf=0.0, n_estimators=100,\n",
       "                       n_jobs=None, oob_score=False, random_state=123,\n",
       "                       verbose=0, warm_start=False)"
      ]
     },
     "execution_count": 389,
     "metadata": {},
     "output_type": "execute_result"
    }
   ],
   "source": [
    "# run random forest! \n",
    "rf = RandomForestClassifier(bootstrap=True, \n",
    "                            class_weight=None, \n",
    "                            criterion='gini',\n",
    "                            min_samples_leaf=3,\n",
    "                            n_estimators=100,\n",
    "                            max_depth=3, \n",
    "                            random_state=123)\n",
    "\n",
    "rf.fit(X_train1, y_train1)"
   ]
  },
  {
   "cell_type": "code",
   "execution_count": 390,
   "metadata": {},
   "outputs": [],
   "source": [
    "y_pred = rf.predict(X_train1)\n",
    "y_pred_proba = rf.predict_proba(X_train1)"
   ]
  },
  {
   "cell_type": "markdown",
   "metadata": {},
   "source": [
    "### Evaluate - MVP - random forest"
   ]
  },
  {
   "cell_type": "code",
   "execution_count": 391,
   "metadata": {},
   "outputs": [
    {
     "name": "stdout",
     "output_type": "stream",
     "text": [
      "Accuracy of random forest classifier on training set: 0.79\n",
      "\n",
      "confusion matrix\n",
      "[[3972  178]\n",
      " [1013  462]]\n",
      "\n",
      "              precision    recall  f1-score   support\n",
      "\n",
      "           0       0.80      0.96      0.87      4150\n",
      "           1       0.72      0.31      0.44      1475\n",
      "\n",
      "    accuracy                           0.79      5625\n",
      "   macro avg       0.76      0.64      0.65      5625\n",
      "weighted avg       0.78      0.79      0.76      5625\n",
      "\n"
     ]
    }
   ],
   "source": [
    "print('Accuracy of random forest classifier on training set: {:.2f}'\n",
    "     .format(rf.score(X_train1, y_train1)))\n",
    "print()\n",
    "print(\"confusion matrix\")\n",
    "print(confusion_matrix(y_train1, y_pred))\n",
    "print()\n",
    "print(classification_report(y_train1, y_pred))"
   ]
  },
  {
   "cell_type": "markdown",
   "metadata": {},
   "source": [
    "### Model - MVP - knn"
   ]
  },
  {
   "cell_type": "code",
   "execution_count": 392,
   "metadata": {},
   "outputs": [
    {
     "data": {
      "text/plain": [
       "KNeighborsClassifier(algorithm='auto', leaf_size=30, metric='minkowski',\n",
       "                     metric_params=None, n_jobs=None, n_neighbors=4, p=2,\n",
       "                     weights='uniform')"
      ]
     },
     "execution_count": 392,
     "metadata": {},
     "output_type": "execute_result"
    }
   ],
   "source": [
    "knn = KNeighborsClassifier(n_neighbors=4, weights='uniform')\n",
    "knn.fit(X_train1, y_train1)"
   ]
  },
  {
   "cell_type": "code",
   "execution_count": 393,
   "metadata": {},
   "outputs": [],
   "source": [
    "y_pred = knn.predict(X_train1)\n",
    "y_pred_proba = knn.predict_proba(X_train1)"
   ]
  },
  {
   "cell_type": "code",
   "execution_count": 394,
   "metadata": {},
   "outputs": [
    {
     "name": "stdout",
     "output_type": "stream",
     "text": [
      "Accuracy of k-nearest neighbor classifier on training set: 0.83\n",
      "\n",
      "confusion matrix\n",
      "[[4024  126]\n",
      " [ 803  672]]\n",
      "\n",
      "              precision    recall  f1-score   support\n",
      "\n",
      "           0       0.83      0.97      0.90      4150\n",
      "           1       0.84      0.46      0.59      1475\n",
      "\n",
      "    accuracy                           0.83      5625\n",
      "   macro avg       0.84      0.71      0.74      5625\n",
      "weighted avg       0.84      0.83      0.82      5625\n",
      "\n"
     ]
    }
   ],
   "source": [
    "print('Accuracy of k-nearest neighbor classifier on training set: {:.2f}'\n",
    "     .format(knn.score(X_train1, y_train1)))\n",
    "print()\n",
    "print(\"confusion matrix\")\n",
    "print(confusion_matrix(y_train1, y_pred))\n",
    "print()\n",
    "print(classification_report(y_train1, y_pred))"
   ]
  },
  {
   "cell_type": "markdown",
   "metadata": {},
   "source": [
    "> The KNN has the best accuracy and the lowest False Negative count, so it was selected as the final model. "
   ]
  },
  {
   "cell_type": "markdown",
   "metadata": {},
   "source": [
    "### Test "
   ]
  },
  {
   "cell_type": "code",
   "execution_count": 395,
   "metadata": {},
   "outputs": [
    {
     "name": "stdout",
     "output_type": "stream",
     "text": [
      "Accuracy of Decision Tree classifier on test set: 0.77\n"
     ]
    }
   ],
   "source": [
    "print('Accuracy of Decision Tree classifier on test set: {:.2f}'\n",
    "     .format(clf.score(X_test1, y_test1)))"
   ]
  },
  {
   "cell_type": "code",
   "execution_count": 396,
   "metadata": {},
   "outputs": [
    {
     "name": "stdout",
     "output_type": "stream",
     "text": [
      "Accuracy of random forest classifier on test set: 0.76\n"
     ]
    }
   ],
   "source": [
    "print('Accuracy of random forest classifier on test set: {:.2f}'\n",
    "     .format(rf.score(X_test1, y_test1)))"
   ]
  },
  {
   "cell_type": "code",
   "execution_count": 397,
   "metadata": {},
   "outputs": [
    {
     "name": "stdout",
     "output_type": "stream",
     "text": [
      "Accuracy of KNN classifier on test set: 0.75\n"
     ]
    }
   ],
   "source": [
    "print('Accuracy of KNN classifier on test set: {:.2f}'\n",
    "     .format(knn.score(X_test1, y_test1)))"
   ]
  },
  {
   "cell_type": "markdown",
   "metadata": {},
   "source": [
    "> When the test data is run, the accuracy for the KNN model dropped from .83 to .75. Therefore, the model overfit the data. \n",
    "> The decision tree is now selected as the final model, as it does not appear to overfit the data."
   ]
  },
  {
   "cell_type": "code",
   "execution_count": null,
   "metadata": {},
   "outputs": [],
   "source": []
  }
 ],
 "metadata": {
  "kernelspec": {
   "display_name": "Python 3",
   "language": "python",
   "name": "python3"
  },
  "language_info": {
   "codemirror_mode": {
    "name": "ipython",
    "version": 3
   },
   "file_extension": ".py",
   "mimetype": "text/x-python",
   "name": "python",
   "nbconvert_exporter": "python",
   "pygments_lexer": "ipython3",
   "version": "3.7.3"
  }
 },
 "nbformat": 4,
 "nbformat_minor": 2
}
